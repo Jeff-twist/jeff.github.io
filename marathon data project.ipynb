{
 "cells": [
  {
   "cell_type": "code",
   "execution_count": 142,
   "id": "27640d9d",
   "metadata": {},
   "outputs": [],
   "source": [
    "import os\n",
    "import pandas as pd\n",
    "import matplotlib.pyplot as plt\n",
    "import seaborn as sns\n",
    "%matplotlib inline"
   ]
  },
  {
   "cell_type": "code",
   "execution_count": 4,
   "id": "85556f0c",
   "metadata": {
    "scrolled": true
   },
   "outputs": [
    {
     "data": {
      "text/plain": [
       "['.bash_logout',\n",
       " '.bashrc',\n",
       " '.profile',\n",
       " 'marathon data project.ipynb',\n",
       " '.local',\n",
       " '.ipython',\n",
       " '.jovianrc',\n",
       " '.cache',\n",
       " 'Berlin_Marathon_data_2009_2019_Berlin_Marathon_data_2009_2019.csv',\n",
       " '.jupyter',\n",
       " '.jovian',\n",
       " 'Berlin_Marathon_weather_data_since_2009_Berlin_Marathon_weather.csv',\n",
       " '.ipynb_checkpoints',\n",
       " '.config',\n",
       " '.conda',\n",
       " '.npm',\n",
       " '.wget-hsts',\n",
       " 'work']"
      ]
     },
     "execution_count": 4,
     "metadata": {},
     "output_type": "execute_result"
    }
   ],
   "source": [
    "os.listdir('.')"
   ]
  },
  {
   "cell_type": "code",
   "execution_count": 5,
   "id": "0852499b",
   "metadata": {},
   "outputs": [
    {
     "name": "stderr",
     "output_type": "stream",
     "text": [
      "/opt/conda/lib/python3.9/site-packages/IPython/core/interactiveshell.py:3441: DtypeWarning: Columns (1,3) have mixed types.Specify dtype option on import or set low_memory=False.\n",
      "  exec(code_obj, self.user_global_ns, self.user_ns)\n"
     ]
    },
    {
     "data": {
      "text/html": [
       "<div>\n",
       "<style scoped>\n",
       "    .dataframe tbody tr th:only-of-type {\n",
       "        vertical-align: middle;\n",
       "    }\n",
       "\n",
       "    .dataframe tbody tr th {\n",
       "        vertical-align: top;\n",
       "    }\n",
       "\n",
       "    .dataframe thead th {\n",
       "        text-align: right;\n",
       "    }\n",
       "</style>\n",
       "<table border=\"1\" class=\"dataframe\">\n",
       "  <thead>\n",
       "    <tr style=\"text-align: right;\">\n",
       "      <th></th>\n",
       "      <th>year</th>\n",
       "      <th>PRECIP_mm</th>\n",
       "      <th>SUNSHINE_hrs</th>\n",
       "      <th>CLOUD_hrs</th>\n",
       "      <th>ATMOS_PRESS_mbar</th>\n",
       "      <th>AVG_TEMP_C</th>\n",
       "      <th>MAX_TEMP_C</th>\n",
       "      <th>MIN_TEMP_C</th>\n",
       "    </tr>\n",
       "  </thead>\n",
       "  <tbody>\n",
       "    <tr>\n",
       "      <th>0</th>\n",
       "      <td>2009</td>\n",
       "      <td>0.0</td>\n",
       "      <td>10.90</td>\n",
       "      <td>0.6</td>\n",
       "      <td>1009.10</td>\n",
       "      <td>16.3</td>\n",
       "      <td>25.4</td>\n",
       "      <td>8.8</td>\n",
       "    </tr>\n",
       "    <tr>\n",
       "      <th>1</th>\n",
       "      <td>2010</td>\n",
       "      <td>29.8</td>\n",
       "      <td>0.00</td>\n",
       "      <td>7.8</td>\n",
       "      <td>995.80</td>\n",
       "      <td>10.5</td>\n",
       "      <td>11.3</td>\n",
       "      <td>9.7</td>\n",
       "    </tr>\n",
       "    <tr>\n",
       "      <th>2</th>\n",
       "      <td>2011</td>\n",
       "      <td>0.0</td>\n",
       "      <td>11.30</td>\n",
       "      <td>0.8</td>\n",
       "      <td>1010.30</td>\n",
       "      <td>13.6</td>\n",
       "      <td>22.1</td>\n",
       "      <td>7.1</td>\n",
       "    </tr>\n",
       "    <tr>\n",
       "      <th>3</th>\n",
       "      <td>2012</td>\n",
       "      <td>0.0</td>\n",
       "      <td>8.90</td>\n",
       "      <td>1.6</td>\n",
       "      <td>1011.01</td>\n",
       "      <td>10.5</td>\n",
       "      <td>16.6</td>\n",
       "      <td>5.0</td>\n",
       "    </tr>\n",
       "    <tr>\n",
       "      <th>4</th>\n",
       "      <td>2013</td>\n",
       "      <td>0.0</td>\n",
       "      <td>10.70</td>\n",
       "      <td>1.4</td>\n",
       "      <td>1008.90</td>\n",
       "      <td>8.9</td>\n",
       "      <td>15.2</td>\n",
       "      <td>4.4</td>\n",
       "    </tr>\n",
       "    <tr>\n",
       "      <th>5</th>\n",
       "      <td>2014</td>\n",
       "      <td>0.0</td>\n",
       "      <td>9.78</td>\n",
       "      <td>4.5</td>\n",
       "      <td>1016.39</td>\n",
       "      <td>12.7</td>\n",
       "      <td>21.2</td>\n",
       "      <td>5.1</td>\n",
       "    </tr>\n",
       "    <tr>\n",
       "      <th>6</th>\n",
       "      <td>2015</td>\n",
       "      <td>0.0</td>\n",
       "      <td>8.93</td>\n",
       "      <td>2.0</td>\n",
       "      <td>1021.40</td>\n",
       "      <td>10.1</td>\n",
       "      <td>16.9</td>\n",
       "      <td>5.2</td>\n",
       "    </tr>\n",
       "    <tr>\n",
       "      <th>7</th>\n",
       "      <td>2016</td>\n",
       "      <td>0.0</td>\n",
       "      <td>10.43</td>\n",
       "      <td>5.6</td>\n",
       "      <td>1012.05</td>\n",
       "      <td>14.5</td>\n",
       "      <td>23.0</td>\n",
       "      <td>8.3</td>\n",
       "    </tr>\n",
       "    <tr>\n",
       "      <th>8</th>\n",
       "      <td>2017</td>\n",
       "      <td>0.3</td>\n",
       "      <td>1.50</td>\n",
       "      <td>7.5</td>\n",
       "      <td>1012.53</td>\n",
       "      <td>14.2</td>\n",
       "      <td>16.4</td>\n",
       "      <td>12.3</td>\n",
       "    </tr>\n",
       "    <tr>\n",
       "      <th>9</th>\n",
       "      <td>2018</td>\n",
       "      <td>0.0</td>\n",
       "      <td>7.75</td>\n",
       "      <td>5.6</td>\n",
       "      <td>1013.82</td>\n",
       "      <td>14.9</td>\n",
       "      <td>22.4</td>\n",
       "      <td>9.0</td>\n",
       "    </tr>\n",
       "    <tr>\n",
       "      <th>10</th>\n",
       "      <td>2019</td>\n",
       "      <td>8.0</td>\n",
       "      <td>0.70</td>\n",
       "      <td>6.8</td>\n",
       "      <td>993.62</td>\n",
       "      <td>14.0</td>\n",
       "      <td>16.4</td>\n",
       "      <td>11.2</td>\n",
       "    </tr>\n",
       "  </tbody>\n",
       "</table>\n",
       "</div>"
      ],
      "text/plain": [
       "    year  PRECIP_mm  SUNSHINE_hrs  CLOUD_hrs  ATMOS_PRESS_mbar  AVG_TEMP_C  \\\n",
       "0   2009        0.0         10.90        0.6           1009.10        16.3   \n",
       "1   2010       29.8          0.00        7.8            995.80        10.5   \n",
       "2   2011        0.0         11.30        0.8           1010.30        13.6   \n",
       "3   2012        0.0          8.90        1.6           1011.01        10.5   \n",
       "4   2013        0.0         10.70        1.4           1008.90         8.9   \n",
       "5   2014        0.0          9.78        4.5           1016.39        12.7   \n",
       "6   2015        0.0          8.93        2.0           1021.40        10.1   \n",
       "7   2016        0.0         10.43        5.6           1012.05        14.5   \n",
       "8   2017        0.3          1.50        7.5           1012.53        14.2   \n",
       "9   2018        0.0          7.75        5.6           1013.82        14.9   \n",
       "10  2019        8.0          0.70        6.8            993.62        14.0   \n",
       "\n",
       "    MAX_TEMP_C  MIN_TEMP_C  \n",
       "0         25.4         8.8  \n",
       "1         11.3         9.7  \n",
       "2         22.1         7.1  \n",
       "3         16.6         5.0  \n",
       "4         15.2         4.4  \n",
       "5         21.2         5.1  \n",
       "6         16.9         5.2  \n",
       "7         23.0         8.3  \n",
       "8         16.4        12.3  \n",
       "9         22.4         9.0  \n",
       "10        16.4        11.2  "
      ]
     },
     "execution_count": 5,
     "metadata": {},
     "output_type": "execute_result"
    }
   ],
   "source": [
    "#importing the marathon csv files from my system using pandas...\n",
    "weather = pd.read_csv('Berlin_Marathon_weather_data_since_2009_Berlin_Marathon_weather.csv')\n",
    "marathon_df = pd.read_csv('Berlin_Marathon_data_2009_2019_Berlin_Marathon_data_2009_2019.csv')\n",
    "weather"
   ]
  },
  {
   "cell_type": "code",
   "execution_count": 6,
   "id": "3f50de29",
   "metadata": {},
   "outputs": [
    {
     "name": "stdout",
     "output_type": "stream",
     "text": [
      "<class 'pandas.core.frame.DataFrame'>\n",
      "RangeIndex: 11 entries, 0 to 10\n",
      "Data columns (total 8 columns):\n",
      " #   Column            Non-Null Count  Dtype  \n",
      "---  ------            --------------  -----  \n",
      " 0   year              11 non-null     int64  \n",
      " 1   PRECIP_mm         11 non-null     float64\n",
      " 2   SUNSHINE_hrs      11 non-null     float64\n",
      " 3   CLOUD_hrs         11 non-null     float64\n",
      " 4   ATMOS_PRESS_mbar  11 non-null     float64\n",
      " 5   AVG_TEMP_C        11 non-null     float64\n",
      " 6   MAX_TEMP_C        11 non-null     float64\n",
      " 7   MIN_TEMP_C        11 non-null     float64\n",
      "dtypes: float64(7), int64(1)\n",
      "memory usage: 832.0 bytes\n"
     ]
    }
   ],
   "source": [
    "weather.info()"
   ]
  },
  {
   "cell_type": "code",
   "execution_count": 7,
   "id": "61fe8fb3",
   "metadata": {},
   "outputs": [
    {
     "data": {
      "text/html": [
       "<div>\n",
       "<style scoped>\n",
       "    .dataframe tbody tr th:only-of-type {\n",
       "        vertical-align: middle;\n",
       "    }\n",
       "\n",
       "    .dataframe tbody tr th {\n",
       "        vertical-align: top;\n",
       "    }\n",
       "\n",
       "    .dataframe thead th {\n",
       "        text-align: right;\n",
       "    }\n",
       "</style>\n",
       "<table border=\"1\" class=\"dataframe\">\n",
       "  <thead>\n",
       "    <tr style=\"text-align: right;\">\n",
       "      <th></th>\n",
       "      <th>YEAR</th>\n",
       "      <th>COUNTRY</th>\n",
       "      <th>GENDER</th>\n",
       "      <th>AGE</th>\n",
       "      <th>TIME</th>\n",
       "    </tr>\n",
       "  </thead>\n",
       "  <tbody>\n",
       "    <tr>\n",
       "      <th>0</th>\n",
       "      <td>2009</td>\n",
       "      <td>NaN</td>\n",
       "      <td>male</td>\n",
       "      <td>35</td>\n",
       "      <td>2:06:08</td>\n",
       "    </tr>\n",
       "    <tr>\n",
       "      <th>1</th>\n",
       "      <td>2009</td>\n",
       "      <td>NaN</td>\n",
       "      <td>male</td>\n",
       "      <td>20</td>\n",
       "      <td>2:07:04</td>\n",
       "    </tr>\n",
       "    <tr>\n",
       "      <th>2</th>\n",
       "      <td>2009</td>\n",
       "      <td>NaN</td>\n",
       "      <td>male</td>\n",
       "      <td>20</td>\n",
       "      <td>2:07:41</td>\n",
       "    </tr>\n",
       "    <tr>\n",
       "      <th>3</th>\n",
       "      <td>2009</td>\n",
       "      <td>NaN</td>\n",
       "      <td>Male</td>\n",
       "      <td>20</td>\n",
       "      <td>2:09:41</td>\n",
       "    </tr>\n",
       "    <tr>\n",
       "      <th>4</th>\n",
       "      <td>2009</td>\n",
       "      <td>NaN</td>\n",
       "      <td>Male</td>\n",
       "      <td>20</td>\n",
       "      <td>0:09:52</td>\n",
       "    </tr>\n",
       "    <tr>\n",
       "      <th>...</th>\n",
       "      <td>...</td>\n",
       "      <td>...</td>\n",
       "      <td>...</td>\n",
       "      <td>...</td>\n",
       "      <td>...</td>\n",
       "    </tr>\n",
       "    <tr>\n",
       "      <th>385017</th>\n",
       "      <td>2019</td>\n",
       "      <td>GER</td>\n",
       "      <td>male</td>\n",
       "      <td>65.0</td>\n",
       "      <td>7:12:17</td>\n",
       "    </tr>\n",
       "    <tr>\n",
       "      <th>385018</th>\n",
       "      <td>2019</td>\n",
       "      <td>GER</td>\n",
       "      <td>male</td>\n",
       "      <td>75.0</td>\n",
       "      <td>7:12:30</td>\n",
       "    </tr>\n",
       "    <tr>\n",
       "      <th>385019</th>\n",
       "      <td>2019</td>\n",
       "      <td>GER</td>\n",
       "      <td>male</td>\n",
       "      <td>80.0</td>\n",
       "      <td>7:15:28</td>\n",
       "    </tr>\n",
       "    <tr>\n",
       "      <th>385020</th>\n",
       "      <td>2019</td>\n",
       "      <td>USA</td>\n",
       "      <td>male</td>\n",
       "      <td>30.0</td>\n",
       "      <td>7:19:28</td>\n",
       "    </tr>\n",
       "    <tr>\n",
       "      <th>385021</th>\n",
       "      <td>2019</td>\n",
       "      <td>GER</td>\n",
       "      <td>male</td>\n",
       "      <td>60.0</td>\n",
       "      <td>7:26:09</td>\n",
       "    </tr>\n",
       "  </tbody>\n",
       "</table>\n",
       "<p>385022 rows × 5 columns</p>\n",
       "</div>"
      ],
      "text/plain": [
       "        YEAR COUNTRY GENDER   AGE     TIME\n",
       "0       2009     NaN   male    35  2:06:08\n",
       "1       2009     NaN   male    20  2:07:04\n",
       "2       2009     NaN   male    20  2:07:41\n",
       "3       2009     NaN   Male    20  2:09:41\n",
       "4       2009     NaN   Male    20  0:09:52\n",
       "...      ...     ...    ...   ...      ...\n",
       "385017  2019     GER   male  65.0  7:12:17\n",
       "385018  2019     GER   male  75.0  7:12:30\n",
       "385019  2019     GER   male  80.0  7:15:28\n",
       "385020  2019     USA   male  30.0  7:19:28\n",
       "385021  2019     GER   male  60.0  7:26:09\n",
       "\n",
       "[385022 rows x 5 columns]"
      ]
     },
     "execution_count": 7,
     "metadata": {},
     "output_type": "execute_result"
    }
   ],
   "source": [
    "marathon_df"
   ]
  },
  {
   "cell_type": "code",
   "execution_count": 8,
   "id": "e2e6409c",
   "metadata": {},
   "outputs": [],
   "source": [
    "marathon = marathon_df.copy()"
   ]
  },
  {
   "cell_type": "code",
   "execution_count": 9,
   "id": "4cd85f38",
   "metadata": {},
   "outputs": [
    {
     "data": {
      "text/html": [
       "<div>\n",
       "<style scoped>\n",
       "    .dataframe tbody tr th:only-of-type {\n",
       "        vertical-align: middle;\n",
       "    }\n",
       "\n",
       "    .dataframe tbody tr th {\n",
       "        vertical-align: top;\n",
       "    }\n",
       "\n",
       "    .dataframe thead th {\n",
       "        text-align: right;\n",
       "    }\n",
       "</style>\n",
       "<table border=\"1\" class=\"dataframe\">\n",
       "  <thead>\n",
       "    <tr style=\"text-align: right;\">\n",
       "      <th></th>\n",
       "      <th>YEAR</th>\n",
       "      <th>COUNTRY</th>\n",
       "      <th>GENDER</th>\n",
       "      <th>AGE</th>\n",
       "      <th>TIME</th>\n",
       "    </tr>\n",
       "  </thead>\n",
       "  <tbody>\n",
       "    <tr>\n",
       "      <th>0</th>\n",
       "      <td>2009</td>\n",
       "      <td>NaN</td>\n",
       "      <td>male</td>\n",
       "      <td>35</td>\n",
       "      <td>2:06:08</td>\n",
       "    </tr>\n",
       "    <tr>\n",
       "      <th>1</th>\n",
       "      <td>2009</td>\n",
       "      <td>NaN</td>\n",
       "      <td>male</td>\n",
       "      <td>20</td>\n",
       "      <td>2:07:04</td>\n",
       "    </tr>\n",
       "    <tr>\n",
       "      <th>2</th>\n",
       "      <td>2009</td>\n",
       "      <td>NaN</td>\n",
       "      <td>male</td>\n",
       "      <td>20</td>\n",
       "      <td>2:07:41</td>\n",
       "    </tr>\n",
       "    <tr>\n",
       "      <th>3</th>\n",
       "      <td>2009</td>\n",
       "      <td>NaN</td>\n",
       "      <td>Male</td>\n",
       "      <td>20</td>\n",
       "      <td>2:09:41</td>\n",
       "    </tr>\n",
       "    <tr>\n",
       "      <th>4</th>\n",
       "      <td>2009</td>\n",
       "      <td>NaN</td>\n",
       "      <td>Male</td>\n",
       "      <td>20</td>\n",
       "      <td>0:09:52</td>\n",
       "    </tr>\n",
       "    <tr>\n",
       "      <th>...</th>\n",
       "      <td>...</td>\n",
       "      <td>...</td>\n",
       "      <td>...</td>\n",
       "      <td>...</td>\n",
       "      <td>...</td>\n",
       "    </tr>\n",
       "    <tr>\n",
       "      <th>385017</th>\n",
       "      <td>2019</td>\n",
       "      <td>GER</td>\n",
       "      <td>male</td>\n",
       "      <td>65.0</td>\n",
       "      <td>7:12:17</td>\n",
       "    </tr>\n",
       "    <tr>\n",
       "      <th>385018</th>\n",
       "      <td>2019</td>\n",
       "      <td>GER</td>\n",
       "      <td>male</td>\n",
       "      <td>75.0</td>\n",
       "      <td>7:12:30</td>\n",
       "    </tr>\n",
       "    <tr>\n",
       "      <th>385019</th>\n",
       "      <td>2019</td>\n",
       "      <td>GER</td>\n",
       "      <td>male</td>\n",
       "      <td>80.0</td>\n",
       "      <td>7:15:28</td>\n",
       "    </tr>\n",
       "    <tr>\n",
       "      <th>385020</th>\n",
       "      <td>2019</td>\n",
       "      <td>USA</td>\n",
       "      <td>male</td>\n",
       "      <td>30.0</td>\n",
       "      <td>7:19:28</td>\n",
       "    </tr>\n",
       "    <tr>\n",
       "      <th>385021</th>\n",
       "      <td>2019</td>\n",
       "      <td>GER</td>\n",
       "      <td>male</td>\n",
       "      <td>60.0</td>\n",
       "      <td>7:26:09</td>\n",
       "    </tr>\n",
       "  </tbody>\n",
       "</table>\n",
       "<p>385022 rows × 5 columns</p>\n",
       "</div>"
      ],
      "text/plain": [
       "        YEAR COUNTRY GENDER   AGE     TIME\n",
       "0       2009     NaN   male    35  2:06:08\n",
       "1       2009     NaN   male    20  2:07:04\n",
       "2       2009     NaN   male    20  2:07:41\n",
       "3       2009     NaN   Male    20  2:09:41\n",
       "4       2009     NaN   Male    20  0:09:52\n",
       "...      ...     ...    ...   ...      ...\n",
       "385017  2019     GER   male  65.0  7:12:17\n",
       "385018  2019     GER   male  75.0  7:12:30\n",
       "385019  2019     GER   male  80.0  7:15:28\n",
       "385020  2019     USA   male  30.0  7:19:28\n",
       "385021  2019     GER   male  60.0  7:26:09\n",
       "\n",
       "[385022 rows x 5 columns]"
      ]
     },
     "execution_count": 9,
     "metadata": {},
     "output_type": "execute_result"
    }
   ],
   "source": [
    "marathon"
   ]
  },
  {
   "cell_type": "code",
   "execution_count": 10,
   "id": "1a2f1f92",
   "metadata": {},
   "outputs": [
    {
     "name": "stdout",
     "output_type": "stream",
     "text": [
      "<class 'pandas.core.frame.DataFrame'>\n",
      "RangeIndex: 385022 entries, 0 to 385021\n",
      "Data columns (total 5 columns):\n",
      " #   Column   Non-Null Count   Dtype \n",
      "---  ------   --------------   ----- \n",
      " 0   YEAR     385022 non-null  int64 \n",
      " 1   COUNTRY  30796 non-null   object\n",
      " 2   GENDER   385022 non-null  object\n",
      " 3   AGE      384991 non-null  object\n",
      " 4   TIME     385022 non-null  object\n",
      "dtypes: int64(1), object(4)\n",
      "memory usage: 14.7+ MB\n"
     ]
    }
   ],
   "source": [
    "marathon.info()"
   ]
  },
  {
   "cell_type": "code",
   "execution_count": 11,
   "id": "cf466375",
   "metadata": {},
   "outputs": [
    {
     "data": {
      "text/plain": [
       "Index(['YEAR', 'COUNTRY', 'GENDER', 'AGE', 'TIME'], dtype='object')"
      ]
     },
     "execution_count": 11,
     "metadata": {},
     "output_type": "execute_result"
    }
   ],
   "source": [
    "marathon.columns"
   ]
  },
  {
   "cell_type": "code",
   "execution_count": 12,
   "id": "e4e80bd3",
   "metadata": {},
   "outputs": [
    {
     "data": {
      "text/plain": [
       "60196"
      ]
     },
     "execution_count": 12,
     "metadata": {},
     "output_type": "execute_result"
    }
   ],
   "source": [
    "#checking for the number of duplicates present in the dataset\n",
    "marathon.duplicated().sum()"
   ]
  },
  {
   "cell_type": "code",
   "execution_count": 13,
   "id": "934a1eaa",
   "metadata": {},
   "outputs": [
    {
     "data": {
      "text/html": [
       "<div>\n",
       "<style scoped>\n",
       "    .dataframe tbody tr th:only-of-type {\n",
       "        vertical-align: middle;\n",
       "    }\n",
       "\n",
       "    .dataframe tbody tr th {\n",
       "        vertical-align: top;\n",
       "    }\n",
       "\n",
       "    .dataframe thead th {\n",
       "        text-align: right;\n",
       "    }\n",
       "</style>\n",
       "<table border=\"1\" class=\"dataframe\">\n",
       "  <thead>\n",
       "    <tr style=\"text-align: right;\">\n",
       "      <th></th>\n",
       "      <th>YEAR</th>\n",
       "      <th>COUNTRY</th>\n",
       "      <th>GENDER</th>\n",
       "      <th>AGE</th>\n",
       "      <th>TIME</th>\n",
       "    </tr>\n",
       "  </thead>\n",
       "  <tbody>\n",
       "    <tr>\n",
       "      <th>0</th>\n",
       "      <td>2009</td>\n",
       "      <td>NaN</td>\n",
       "      <td>male</td>\n",
       "      <td>35</td>\n",
       "      <td>2:06:08</td>\n",
       "    </tr>\n",
       "    <tr>\n",
       "      <th>1</th>\n",
       "      <td>2009</td>\n",
       "      <td>NaN</td>\n",
       "      <td>male</td>\n",
       "      <td>20</td>\n",
       "      <td>2:07:04</td>\n",
       "    </tr>\n",
       "    <tr>\n",
       "      <th>2</th>\n",
       "      <td>2009</td>\n",
       "      <td>NaN</td>\n",
       "      <td>male</td>\n",
       "      <td>20</td>\n",
       "      <td>2:07:41</td>\n",
       "    </tr>\n",
       "    <tr>\n",
       "      <th>3</th>\n",
       "      <td>2009</td>\n",
       "      <td>NaN</td>\n",
       "      <td>Male</td>\n",
       "      <td>20</td>\n",
       "      <td>2:09:41</td>\n",
       "    </tr>\n",
       "    <tr>\n",
       "      <th>4</th>\n",
       "      <td>2009</td>\n",
       "      <td>NaN</td>\n",
       "      <td>Male</td>\n",
       "      <td>20</td>\n",
       "      <td>0:09:52</td>\n",
       "    </tr>\n",
       "    <tr>\n",
       "      <th>...</th>\n",
       "      <td>...</td>\n",
       "      <td>...</td>\n",
       "      <td>...</td>\n",
       "      <td>...</td>\n",
       "      <td>...</td>\n",
       "    </tr>\n",
       "    <tr>\n",
       "      <th>385017</th>\n",
       "      <td>2019</td>\n",
       "      <td>GER</td>\n",
       "      <td>male</td>\n",
       "      <td>65.0</td>\n",
       "      <td>7:12:17</td>\n",
       "    </tr>\n",
       "    <tr>\n",
       "      <th>385018</th>\n",
       "      <td>2019</td>\n",
       "      <td>GER</td>\n",
       "      <td>male</td>\n",
       "      <td>75.0</td>\n",
       "      <td>7:12:30</td>\n",
       "    </tr>\n",
       "    <tr>\n",
       "      <th>385019</th>\n",
       "      <td>2019</td>\n",
       "      <td>GER</td>\n",
       "      <td>male</td>\n",
       "      <td>80.0</td>\n",
       "      <td>7:15:28</td>\n",
       "    </tr>\n",
       "    <tr>\n",
       "      <th>385020</th>\n",
       "      <td>2019</td>\n",
       "      <td>USA</td>\n",
       "      <td>male</td>\n",
       "      <td>30.0</td>\n",
       "      <td>7:19:28</td>\n",
       "    </tr>\n",
       "    <tr>\n",
       "      <th>385021</th>\n",
       "      <td>2019</td>\n",
       "      <td>GER</td>\n",
       "      <td>male</td>\n",
       "      <td>60.0</td>\n",
       "      <td>7:26:09</td>\n",
       "    </tr>\n",
       "  </tbody>\n",
       "</table>\n",
       "<p>324826 rows × 5 columns</p>\n",
       "</div>"
      ],
      "text/plain": [
       "        YEAR COUNTRY GENDER   AGE     TIME\n",
       "0       2009     NaN   male    35  2:06:08\n",
       "1       2009     NaN   male    20  2:07:04\n",
       "2       2009     NaN   male    20  2:07:41\n",
       "3       2009     NaN   Male    20  2:09:41\n",
       "4       2009     NaN   Male    20  0:09:52\n",
       "...      ...     ...    ...   ...      ...\n",
       "385017  2019     GER   male  65.0  7:12:17\n",
       "385018  2019     GER   male  75.0  7:12:30\n",
       "385019  2019     GER   male  80.0  7:15:28\n",
       "385020  2019     USA   male  30.0  7:19:28\n",
       "385021  2019     GER   male  60.0  7:26:09\n",
       "\n",
       "[324826 rows x 5 columns]"
      ]
     },
     "execution_count": 13,
     "metadata": {},
     "output_type": "execute_result"
    }
   ],
   "source": [
    "#To remove duplicates\n",
    "marathon = marathon.drop_duplicates()\n",
    "marathon"
   ]
  },
  {
   "cell_type": "code",
   "execution_count": 14,
   "id": "a309ce47",
   "metadata": {},
   "outputs": [
    {
     "name": "stdout",
     "output_type": "stream",
     "text": [
      "<class 'pandas.core.frame.DataFrame'>\n",
      "Int64Index: 324826 entries, 0 to 385021\n",
      "Data columns (total 5 columns):\n",
      " #   Column   Non-Null Count   Dtype \n",
      "---  ------   --------------   ----- \n",
      " 0   YEAR     324826 non-null  int64 \n",
      " 1   COUNTRY  29576 non-null   object\n",
      " 2   GENDER   324826 non-null  object\n",
      " 3   AGE      324795 non-null  object\n",
      " 4   TIME     324826 non-null  object\n",
      "dtypes: int64(1), object(4)\n",
      "memory usage: 14.9+ MB\n"
     ]
    }
   ],
   "source": [
    "marathon.info()"
   ]
  },
  {
   "cell_type": "code",
   "execution_count": 15,
   "id": "eb1e2a4b",
   "metadata": {},
   "outputs": [
    {
     "name": "stderr",
     "output_type": "stream",
     "text": [
      "/tmp/ipykernel_38/439035053.py:2: SettingWithCopyWarning: \n",
      "A value is trying to be set on a copy of a slice from a DataFrame.\n",
      "Try using .loc[row_indexer,col_indexer] = value instead\n",
      "\n",
      "See the caveats in the documentation: https://pandas.pydata.org/pandas-docs/stable/user_guide/indexing.html#returning-a-view-versus-a-copy\n",
      "  marathon['AGE']= pd.to_numeric(marathon['AGE'], errors = 'coerce')\n"
     ]
    }
   ],
   "source": [
    "#changing the datatype of the AGE column\n",
    "marathon['AGE']= pd.to_numeric(marathon['AGE'], errors = 'coerce')"
   ]
  },
  {
   "cell_type": "code",
   "execution_count": 16,
   "id": "794faeae",
   "metadata": {},
   "outputs": [
    {
     "name": "stderr",
     "output_type": "stream",
     "text": [
      "/tmp/ipykernel_38/2017464357.py:2: SettingWithCopyWarning: \n",
      "A value is trying to be set on a copy of a slice from a DataFrame.\n",
      "Try using .loc[row_indexer,col_indexer] = value instead\n",
      "\n",
      "See the caveats in the documentation: https://pandas.pydata.org/pandas-docs/stable/user_guide/indexing.html#returning-a-view-versus-a-copy\n",
      "  marathon['AGE'] = marathon['AGE'].fillna(0).astype(int)\n"
     ]
    }
   ],
   "source": [
    "#converting to integers and null values to zero in the AGE column\n",
    "marathon['AGE'] = marathon['AGE'].fillna(0).astype(int)"
   ]
  },
  {
   "cell_type": "code",
   "execution_count": 17,
   "id": "32623581",
   "metadata": {
    "scrolled": true
   },
   "outputs": [
    {
     "data": {
      "text/plain": [
       "YEAR        int64\n",
       "COUNTRY    object\n",
       "GENDER     object\n",
       "AGE         int64\n",
       "TIME       object\n",
       "dtype: object"
      ]
     },
     "execution_count": 17,
     "metadata": {},
     "output_type": "execute_result"
    }
   ],
   "source": [
    "marathon.dtypes"
   ]
  },
  {
   "cell_type": "code",
   "execution_count": 18,
   "id": "163b5a6c",
   "metadata": {},
   "outputs": [
    {
     "name": "stdout",
     "output_type": "stream",
     "text": [
      "<class 'pandas.core.frame.DataFrame'>\n",
      "Int64Index: 324826 entries, 0 to 385021\n",
      "Data columns (total 5 columns):\n",
      " #   Column   Non-Null Count   Dtype \n",
      "---  ------   --------------   ----- \n",
      " 0   YEAR     324826 non-null  int64 \n",
      " 1   COUNTRY  29576 non-null   object\n",
      " 2   GENDER   324826 non-null  object\n",
      " 3   AGE      324826 non-null  int64 \n",
      " 4   TIME     324826 non-null  object\n",
      "dtypes: int64(2), object(3)\n",
      "memory usage: 14.9+ MB\n"
     ]
    }
   ],
   "source": [
    "marathon.info()"
   ]
  },
  {
   "cell_type": "code",
   "execution_count": 19,
   "id": "d1c3c300",
   "metadata": {},
   "outputs": [
    {
     "data": {
      "text/html": [
       "<div>\n",
       "<style scoped>\n",
       "    .dataframe tbody tr th:only-of-type {\n",
       "        vertical-align: middle;\n",
       "    }\n",
       "\n",
       "    .dataframe tbody tr th {\n",
       "        vertical-align: top;\n",
       "    }\n",
       "\n",
       "    .dataframe thead th {\n",
       "        text-align: right;\n",
       "    }\n",
       "</style>\n",
       "<table border=\"1\" class=\"dataframe\">\n",
       "  <thead>\n",
       "    <tr style=\"text-align: right;\">\n",
       "      <th></th>\n",
       "      <th>YEAR</th>\n",
       "      <th>COUNTRY</th>\n",
       "      <th>GENDER</th>\n",
       "      <th>AGE</th>\n",
       "      <th>TIME</th>\n",
       "    </tr>\n",
       "  </thead>\n",
       "  <tbody>\n",
       "    <tr>\n",
       "      <th>0</th>\n",
       "      <td>2009</td>\n",
       "      <td>NaN</td>\n",
       "      <td>male</td>\n",
       "      <td>35</td>\n",
       "      <td>2:06:08</td>\n",
       "    </tr>\n",
       "    <tr>\n",
       "      <th>1</th>\n",
       "      <td>2009</td>\n",
       "      <td>NaN</td>\n",
       "      <td>male</td>\n",
       "      <td>20</td>\n",
       "      <td>2:07:04</td>\n",
       "    </tr>\n",
       "    <tr>\n",
       "      <th>2</th>\n",
       "      <td>2009</td>\n",
       "      <td>NaN</td>\n",
       "      <td>male</td>\n",
       "      <td>20</td>\n",
       "      <td>2:07:41</td>\n",
       "    </tr>\n",
       "    <tr>\n",
       "      <th>3</th>\n",
       "      <td>2009</td>\n",
       "      <td>NaN</td>\n",
       "      <td>Male</td>\n",
       "      <td>20</td>\n",
       "      <td>2:09:41</td>\n",
       "    </tr>\n",
       "    <tr>\n",
       "      <th>4</th>\n",
       "      <td>2009</td>\n",
       "      <td>NaN</td>\n",
       "      <td>Male</td>\n",
       "      <td>20</td>\n",
       "      <td>0:09:52</td>\n",
       "    </tr>\n",
       "    <tr>\n",
       "      <th>...</th>\n",
       "      <td>...</td>\n",
       "      <td>...</td>\n",
       "      <td>...</td>\n",
       "      <td>...</td>\n",
       "      <td>...</td>\n",
       "    </tr>\n",
       "    <tr>\n",
       "      <th>385017</th>\n",
       "      <td>2019</td>\n",
       "      <td>GER</td>\n",
       "      <td>male</td>\n",
       "      <td>65</td>\n",
       "      <td>7:12:17</td>\n",
       "    </tr>\n",
       "    <tr>\n",
       "      <th>385018</th>\n",
       "      <td>2019</td>\n",
       "      <td>GER</td>\n",
       "      <td>male</td>\n",
       "      <td>75</td>\n",
       "      <td>7:12:30</td>\n",
       "    </tr>\n",
       "    <tr>\n",
       "      <th>385019</th>\n",
       "      <td>2019</td>\n",
       "      <td>GER</td>\n",
       "      <td>male</td>\n",
       "      <td>80</td>\n",
       "      <td>7:15:28</td>\n",
       "    </tr>\n",
       "    <tr>\n",
       "      <th>385020</th>\n",
       "      <td>2019</td>\n",
       "      <td>USA</td>\n",
       "      <td>male</td>\n",
       "      <td>30</td>\n",
       "      <td>7:19:28</td>\n",
       "    </tr>\n",
       "    <tr>\n",
       "      <th>385021</th>\n",
       "      <td>2019</td>\n",
       "      <td>GER</td>\n",
       "      <td>male</td>\n",
       "      <td>60</td>\n",
       "      <td>7:26:09</td>\n",
       "    </tr>\n",
       "  </tbody>\n",
       "</table>\n",
       "<p>324826 rows × 5 columns</p>\n",
       "</div>"
      ],
      "text/plain": [
       "        YEAR COUNTRY GENDER  AGE     TIME\n",
       "0       2009     NaN   male   35  2:06:08\n",
       "1       2009     NaN   male   20  2:07:04\n",
       "2       2009     NaN   male   20  2:07:41\n",
       "3       2009     NaN   Male   20  2:09:41\n",
       "4       2009     NaN   Male   20  0:09:52\n",
       "...      ...     ...    ...  ...      ...\n",
       "385017  2019     GER   male   65  7:12:17\n",
       "385018  2019     GER   male   75  7:12:30\n",
       "385019  2019     GER   male   80  7:15:28\n",
       "385020  2019     USA   male   30  7:19:28\n",
       "385021  2019     GER   male   60  7:26:09\n",
       "\n",
       "[324826 rows x 5 columns]"
      ]
     },
     "execution_count": 19,
     "metadata": {},
     "output_type": "execute_result"
    }
   ],
   "source": [
    "marathon"
   ]
  },
  {
   "cell_type": "code",
   "execution_count": 20,
   "id": "cdea25f0",
   "metadata": {},
   "outputs": [
    {
     "data": {
      "text/plain": [
       "YEAR            0\n",
       "COUNTRY    295250\n",
       "GENDER          0\n",
       "AGE             0\n",
       "TIME            0\n",
       "dtype: int64"
      ]
     },
     "execution_count": 20,
     "metadata": {},
     "output_type": "execute_result"
    }
   ],
   "source": [
    "marathon.isna().sum()"
   ]
  },
  {
   "cell_type": "code",
   "execution_count": 21,
   "id": "3beb75d5",
   "metadata": {},
   "outputs": [],
   "source": [
    "#converting country and gender column to strings\n",
    "marathon = marathon.astype({'COUNTRY' : 'string', 'GENDER':'string'})"
   ]
  },
  {
   "cell_type": "code",
   "execution_count": 22,
   "id": "612a22ab",
   "metadata": {},
   "outputs": [
    {
     "data": {
      "text/plain": [
       "YEAR        int64\n",
       "COUNTRY    string\n",
       "GENDER     string\n",
       "AGE         int64\n",
       "TIME       object\n",
       "dtype: object"
      ]
     },
     "execution_count": 22,
     "metadata": {},
     "output_type": "execute_result"
    }
   ],
   "source": [
    "marathon.dtypes"
   ]
  },
  {
   "cell_type": "code",
   "execution_count": 23,
   "id": "cb228e98",
   "metadata": {},
   "outputs": [
    {
     "data": {
      "text/plain": [
       "array([2009, 2010, 2011, 2012, 2013, 2014, 2015, 2016, 2017, 2018, 2019])"
      ]
     },
     "execution_count": 23,
     "metadata": {},
     "output_type": "execute_result"
    }
   ],
   "source": [
    "marathon.YEAR.unique()"
   ]
  },
  {
   "cell_type": "code",
   "execution_count": 24,
   "id": "e40fc702",
   "metadata": {},
   "outputs": [
    {
     "data": {
      "text/plain": [
       "<StringArray>\n",
       "[ <NA>, 'ETH', 'KEN', 'ERI', 'CHN', 'JPN', 'AUT', 'ITA', 'USA', 'SWE',\n",
       " ...\n",
       " 'JAM', 'CGO', 'CUW', 'DJI', 'KSA', 'PAK', 'IRQ', 'SUR', 'MYA', 'NGR']\n",
       "Length: 146, dtype: string"
      ]
     },
     "execution_count": 24,
     "metadata": {},
     "output_type": "execute_result"
    }
   ],
   "source": [
    "marathon.COUNTRY.unique()"
   ]
  },
  {
   "cell_type": "code",
   "execution_count": 25,
   "id": "dd58213f",
   "metadata": {
    "scrolled": false
   },
   "outputs": [
    {
     "data": {
      "text/plain": [
       "array([ 35,  20,  30,  40,  45,  50,  60,  55,  18, 100,  65,  70,  75,\n",
       "        80,   0])"
      ]
     },
     "execution_count": 25,
     "metadata": {},
     "output_type": "execute_result"
    }
   ],
   "source": [
    "marathon.AGE.unique()"
   ]
  },
  {
   "cell_type": "code",
   "execution_count": 26,
   "id": "d87ec0da",
   "metadata": {},
   "outputs": [
    {
     "data": {
      "text/html": [
       "<div>\n",
       "<style scoped>\n",
       "    .dataframe tbody tr th:only-of-type {\n",
       "        vertical-align: middle;\n",
       "    }\n",
       "\n",
       "    .dataframe tbody tr th {\n",
       "        vertical-align: top;\n",
       "    }\n",
       "\n",
       "    .dataframe thead th {\n",
       "        text-align: right;\n",
       "    }\n",
       "</style>\n",
       "<table border=\"1\" class=\"dataframe\">\n",
       "  <thead>\n",
       "    <tr style=\"text-align: right;\">\n",
       "      <th></th>\n",
       "      <th>YEAR</th>\n",
       "      <th>COUNTRY</th>\n",
       "      <th>GENDER</th>\n",
       "      <th>AGE</th>\n",
       "      <th>TIME</th>\n",
       "    </tr>\n",
       "  </thead>\n",
       "  <tbody>\n",
       "    <tr>\n",
       "      <th>0</th>\n",
       "      <td>2009</td>\n",
       "      <td>&lt;NA&gt;</td>\n",
       "      <td>male</td>\n",
       "      <td>35</td>\n",
       "      <td>2:06:08</td>\n",
       "    </tr>\n",
       "    <tr>\n",
       "      <th>1</th>\n",
       "      <td>2009</td>\n",
       "      <td>&lt;NA&gt;</td>\n",
       "      <td>male</td>\n",
       "      <td>20</td>\n",
       "      <td>2:07:04</td>\n",
       "    </tr>\n",
       "    <tr>\n",
       "      <th>2</th>\n",
       "      <td>2009</td>\n",
       "      <td>&lt;NA&gt;</td>\n",
       "      <td>male</td>\n",
       "      <td>20</td>\n",
       "      <td>2:07:41</td>\n",
       "    </tr>\n",
       "    <tr>\n",
       "      <th>3</th>\n",
       "      <td>2009</td>\n",
       "      <td>&lt;NA&gt;</td>\n",
       "      <td>Male</td>\n",
       "      <td>20</td>\n",
       "      <td>2:09:41</td>\n",
       "    </tr>\n",
       "    <tr>\n",
       "      <th>4</th>\n",
       "      <td>2009</td>\n",
       "      <td>&lt;NA&gt;</td>\n",
       "      <td>Male</td>\n",
       "      <td>20</td>\n",
       "      <td>0:09:52</td>\n",
       "    </tr>\n",
       "    <tr>\n",
       "      <th>...</th>\n",
       "      <td>...</td>\n",
       "      <td>...</td>\n",
       "      <td>...</td>\n",
       "      <td>...</td>\n",
       "      <td>...</td>\n",
       "    </tr>\n",
       "    <tr>\n",
       "      <th>385017</th>\n",
       "      <td>2019</td>\n",
       "      <td>GER</td>\n",
       "      <td>male</td>\n",
       "      <td>65</td>\n",
       "      <td>7:12:17</td>\n",
       "    </tr>\n",
       "    <tr>\n",
       "      <th>385018</th>\n",
       "      <td>2019</td>\n",
       "      <td>GER</td>\n",
       "      <td>male</td>\n",
       "      <td>75</td>\n",
       "      <td>7:12:30</td>\n",
       "    </tr>\n",
       "    <tr>\n",
       "      <th>385019</th>\n",
       "      <td>2019</td>\n",
       "      <td>GER</td>\n",
       "      <td>male</td>\n",
       "      <td>80</td>\n",
       "      <td>7:15:28</td>\n",
       "    </tr>\n",
       "    <tr>\n",
       "      <th>385020</th>\n",
       "      <td>2019</td>\n",
       "      <td>USA</td>\n",
       "      <td>male</td>\n",
       "      <td>30</td>\n",
       "      <td>7:19:28</td>\n",
       "    </tr>\n",
       "    <tr>\n",
       "      <th>385021</th>\n",
       "      <td>2019</td>\n",
       "      <td>GER</td>\n",
       "      <td>male</td>\n",
       "      <td>60</td>\n",
       "      <td>7:26:09</td>\n",
       "    </tr>\n",
       "  </tbody>\n",
       "</table>\n",
       "<p>324770 rows × 5 columns</p>\n",
       "</div>"
      ],
      "text/plain": [
       "        YEAR COUNTRY GENDER  AGE     TIME\n",
       "0       2009    <NA>   male   35  2:06:08\n",
       "1       2009    <NA>   male   20  2:07:04\n",
       "2       2009    <NA>   male   20  2:07:41\n",
       "3       2009    <NA>   Male   20  2:09:41\n",
       "4       2009    <NA>   Male   20  0:09:52\n",
       "...      ...     ...    ...  ...      ...\n",
       "385017  2019     GER   male   65  7:12:17\n",
       "385018  2019     GER   male   75  7:12:30\n",
       "385019  2019     GER   male   80  7:15:28\n",
       "385020  2019     USA   male   30  7:19:28\n",
       "385021  2019     GER   male   60  7:26:09\n",
       "\n",
       "[324770 rows x 5 columns]"
      ]
     },
     "execution_count": 26,
     "metadata": {},
     "output_type": "execute_result"
    }
   ],
   "source": [
    "#removing zero values\n",
    "marathon = marathon[marathon.AGE != 0]\n",
    "marathon"
   ]
  },
  {
   "cell_type": "code",
   "execution_count": 27,
   "id": "d4808556",
   "metadata": {
    "scrolled": true
   },
   "outputs": [
    {
     "data": {
      "text/plain": [
       "array([ 35,  20,  30,  40,  45,  50,  60,  55,  18, 100,  65,  70,  75,\n",
       "        80])"
      ]
     },
     "execution_count": 27,
     "metadata": {},
     "output_type": "execute_result"
    }
   ],
   "source": [
    "marathon.AGE.unique()"
   ]
  },
  {
   "cell_type": "code",
   "execution_count": 28,
   "id": "b557c667",
   "metadata": {
    "scrolled": false
   },
   "outputs": [
    {
     "data": {
      "text/plain": [
       "<StringArray>\n",
       "['male', 'Male', 'female', '-----------']\n",
       "Length: 4, dtype: string"
      ]
     },
     "execution_count": 28,
     "metadata": {},
     "output_type": "execute_result"
    }
   ],
   "source": [
    "marathon.GENDER.unique()"
   ]
  },
  {
   "cell_type": "code",
   "execution_count": 29,
   "id": "0d4f913a",
   "metadata": {},
   "outputs": [],
   "source": [
    "marathon['GENDER'] = marathon.GENDER.apply(str.lower)\n"
   ]
  },
  {
   "cell_type": "code",
   "execution_count": 30,
   "id": "51eb5509",
   "metadata": {
    "scrolled": true
   },
   "outputs": [
    {
     "data": {
      "text/plain": [
       "array(['male', 'female', '-----------'], dtype=object)"
      ]
     },
     "execution_count": 30,
     "metadata": {},
     "output_type": "execute_result"
    }
   ],
   "source": [
    "marathon['GENDER'].unique()"
   ]
  },
  {
   "cell_type": "code",
   "execution_count": 31,
   "id": "7c5fd14b",
   "metadata": {
    "scrolled": true
   },
   "outputs": [
    {
     "data": {
      "text/plain": [
       "YEAR        int64\n",
       "COUNTRY    string\n",
       "GENDER     object\n",
       "AGE         int64\n",
       "TIME       object\n",
       "dtype: object"
      ]
     },
     "execution_count": 31,
     "metadata": {},
     "output_type": "execute_result"
    }
   ],
   "source": [
    "marathon.dtypes"
   ]
  },
  {
   "cell_type": "code",
   "execution_count": 32,
   "id": "feaae2e7",
   "metadata": {},
   "outputs": [],
   "source": [
    "marathon['GENDER'] = marathon.GENDER.astype('string')\n"
   ]
  },
  {
   "cell_type": "code",
   "execution_count": 33,
   "id": "2ecf172b",
   "metadata": {},
   "outputs": [
    {
     "data": {
      "text/plain": [
       "YEAR        int64\n",
       "COUNTRY    string\n",
       "GENDER     string\n",
       "AGE         int64\n",
       "TIME       object\n",
       "dtype: object"
      ]
     },
     "execution_count": 33,
     "metadata": {},
     "output_type": "execute_result"
    }
   ],
   "source": [
    "marathon.dtypes"
   ]
  },
  {
   "cell_type": "code",
   "execution_count": 34,
   "id": "b14bac27",
   "metadata": {},
   "outputs": [
    {
     "data": {
      "text/plain": [
       "<StringArray>\n",
       "['male', 'female', '-----------']\n",
       "Length: 3, dtype: string"
      ]
     },
     "execution_count": 34,
     "metadata": {},
     "output_type": "execute_result"
    }
   ],
   "source": [
    "marathon['GENDER'].unique()"
   ]
  },
  {
   "cell_type": "code",
   "execution_count": 35,
   "id": "9b0a4aad",
   "metadata": {},
   "outputs": [
    {
     "data": {
      "text/plain": [
       "<StringArray>\n",
       "['male', 'female', 'non-binary']\n",
       "Length: 3, dtype: string"
      ]
     },
     "execution_count": 35,
     "metadata": {},
     "output_type": "execute_result"
    }
   ],
   "source": [
    "#renaming some row values in the GENDER column\n",
    "marathon['GENDER'] = marathon['GENDER'].replace('-----------', 'non-binary')\n",
    "marathon['GENDER'].unique()"
   ]
  },
  {
   "cell_type": "code",
   "execution_count": 36,
   "id": "9a1f076c",
   "metadata": {
    "scrolled": false
   },
   "outputs": [
    {
     "data": {
      "text/plain": [
       "array(['2:06:08', '2:07:04', '2:07:41', ..., '7:12:30', '7:15:28',\n",
       "       '7:26:09'], dtype=object)"
      ]
     },
     "execution_count": 36,
     "metadata": {},
     "output_type": "execute_result"
    }
   ],
   "source": [
    "marathon.TIME.unique()"
   ]
  },
  {
   "cell_type": "code",
   "execution_count": 37,
   "id": "832ac6fb",
   "metadata": {
    "scrolled": false
   },
   "outputs": [
    {
     "data": {
      "text/plain": [
       "count      324770\n",
       "unique      15609\n",
       "top       3:58:58\n",
       "freq           80\n",
       "Name: TIME, dtype: object"
      ]
     },
     "execution_count": 37,
     "metadata": {},
     "output_type": "execute_result"
    }
   ],
   "source": [
    "marathon.TIME.describe()"
   ]
  },
  {
   "cell_type": "code",
   "execution_count": 38,
   "id": "ff5dae52",
   "metadata": {
    "scrolled": true
   },
   "outputs": [
    {
     "data": {
      "text/plain": [
       "array(['0:09:52', '0:22:38', '2:01:39', '2:01:41', '2:02:48', '2:02:57',\n",
       "       '2:03:03', '2:03:13', '2:03:23', '2:03:32', '2:03:36', '2:03:38',\n",
       "       '2:03:46', '2:04:00', '2:04:05', '2:04:15', '2:04:16', '2:05:08',\n",
       "       '2:05:10', '2:05:21', '2:05:25', '2:05:31', '2:05:56', '2:06:08',\n",
       "       '2:06:09', '2:06:12', '2:06:13', '2:06:14', '2:06:23', '2:06:26',\n",
       "       '2:06:39', '2:06:45', '2:06:48', '2:06:56', '2:06:57', '2:07:04',\n",
       "       '2:07:28', '2:07:35', '2:07:41', '2:07:44', '2:07:46', '2:07:47',\n",
       "       '2:07:52', '2:07:55', '2:08:05', '2:08:07', '2:08:16', '2:08:26',\n",
       "       '2:08:28', '2:08:33', '2:08:35', '2:08:41', '2:08:44', '2:08:46',\n",
       "       '2:08:50', '2:08:52', '2:08:56', '2:09:03', '2:09:18', '2:09:19',\n",
       "       '2:09:24', '2:09:29', '2:09:39', '2:09:41', '2:09:46', '2:09:48',\n",
       "       '2:09:50', '2:09:56', '2:09:58', '2:09:59', '2:10:01', '2:10:18',\n",
       "       '2:10:22', '2:10:24', '2:10:26', '2:10:27', '2:10:28', '2:10:29',\n",
       "       '2:10:31', '2:10:34', '2:10:38', '2:10:47', '2:10:55', '2:10:57',\n",
       "       '2:11:03', '2:11:07', '2:11:08', '2:11:14', '2:11:24', '2:11:25',\n",
       "       '2:11:31', '2:11:36', '2:11:46', '2:11:50', '2:11:54', '2:12:00',\n",
       "       '2:12:16', '2:12:17', '2:12:28', '2:12:29', '2:12:32', '2:12:33',\n",
       "       '2:12:40', '2:12:41', '2:12:42', '2:12:43', '2:12:45', '2:12:49',\n",
       "       '2:12:50', '2:12:51', '2:12:52', '2:12:54', '2:12:57', '2:13:00',\n",
       "       '2:13:05', '2:13:09', '2:13:10', '2:13:14', '2:13:16', '2:13:19',\n",
       "       '2:13:22', '2:13:27', '2:13:32', '2:13:34', '2:13:38', '2:13:39',\n",
       "       '2:13:43', '2:13:46', '2:13:48', '2:13:51', '2:13:53', '2:13:55',\n",
       "       '2:13:57', '2:14:02', '2:14:05', '2:14:17', '2:14:19', '2:14:20',\n",
       "       '2:14:27', '2:14:28', '2:14:31', '2:14:32', '2:14:35', '2:14:39',\n",
       "       '2:14:40', '2:14:43', '2:14:44', '2:14:45', '2:14:46', '2:14:50',\n",
       "       '2:14:51', '2:14:52', '2:14:54', '2:14:57', '2:14:58', '2:15:00',\n",
       "       '2:15:02', '2:15:03', '2:15:04', '2:15:05', '2:15:08', '2:15:10',\n",
       "       '2:15:12'], dtype=object)"
      ]
     },
     "execution_count": 38,
     "metadata": {},
     "output_type": "execute_result"
    }
   ],
   "source": [
    "#checking for outliers\n",
    "marathon.TIME.sort_values().head(200).unique()"
   ]
  },
  {
   "cell_type": "code",
   "execution_count": 39,
   "id": "6197f3ed",
   "metadata": {},
   "outputs": [
    {
     "data": {
      "text/plain": [
       "array(['2:06:08', '2:07:04', '2:07:41', ..., '7:12:30', '7:15:28',\n",
       "       '7:26:09'], dtype=object)"
      ]
     },
     "execution_count": 39,
     "metadata": {},
     "output_type": "execute_result"
    }
   ],
   "source": [
    "#dropping unwanted row values/outliers\n",
    "marathon.drop(marathon[marathon['TIME'] < '2:00:39'].index, inplace = True)\n",
    "marathon.TIME.unique()"
   ]
  },
  {
   "cell_type": "code",
   "execution_count": 40,
   "id": "c158ca26",
   "metadata": {
    "scrolled": false
   },
   "outputs": [
    {
     "data": {
      "text/plain": [
       "array(['2:01:39', '2:01:41', '2:02:48', '2:02:57', '2:03:03', '2:03:13',\n",
       "       '2:03:23', '2:03:32', '2:03:36', '2:03:38', '2:03:46', '2:04:00',\n",
       "       '2:04:05', '2:04:15', '2:04:16', '2:05:08', '2:05:10', '2:05:21',\n",
       "       '2:05:25', '2:05:31', '2:05:56', '2:06:08', '2:06:09', '2:06:12',\n",
       "       '2:06:13', '2:06:14', '2:06:23', '2:06:26', '2:06:39', '2:06:45',\n",
       "       '2:06:48', '2:06:56', '2:06:57', '2:07:04', '2:07:28', '2:07:35',\n",
       "       '2:07:41', '2:07:44', '2:07:46', '2:07:47', '2:07:52', '2:07:55',\n",
       "       '2:08:05', '2:08:07', '2:08:16', '2:08:26', '2:08:28', '2:08:33',\n",
       "       '2:08:35', '2:08:41', '2:08:44', '2:08:46', '2:08:50', '2:08:52',\n",
       "       '2:08:56', '2:09:03', '2:09:18', '2:09:19', '2:09:24', '2:09:29',\n",
       "       '2:09:39', '2:09:41', '2:09:46', '2:09:48', '2:09:50', '2:09:56',\n",
       "       '2:09:58', '2:09:59', '2:10:01', '2:10:18', '2:10:22', '2:10:24',\n",
       "       '2:10:26', '2:10:27', '2:10:28', '2:10:29', '2:10:31', '2:10:34',\n",
       "       '2:10:38', '2:10:47', '2:10:55', '2:10:57', '2:11:03', '2:11:07',\n",
       "       '2:11:08', '2:11:14', '2:11:24', '2:11:25', '2:11:31', '2:11:36',\n",
       "       '2:11:46', '2:11:50', '2:11:54', '2:12:00', '2:12:16', '2:12:17',\n",
       "       '2:12:28', '2:12:29', '2:12:32', '2:12:33', '2:12:40', '2:12:41',\n",
       "       '2:12:42', '2:12:43', '2:12:45', '2:12:49', '2:12:50', '2:12:51',\n",
       "       '2:12:52', '2:12:54', '2:12:57', '2:13:00', '2:13:05', '2:13:09',\n",
       "       '2:13:10', '2:13:14', '2:13:16', '2:13:19', '2:13:22', '2:13:27',\n",
       "       '2:13:32', '2:13:34', '2:13:38', '2:13:39', '2:13:43', '2:13:46',\n",
       "       '2:13:48', '2:13:51', '2:13:53', '2:13:55', '2:13:57', '2:14:02',\n",
       "       '2:14:05', '2:14:17', '2:14:19', '2:14:20', '2:14:27', '2:14:28',\n",
       "       '2:14:31', '2:14:32', '2:14:35', '2:14:39', '2:14:40', '2:14:43',\n",
       "       '2:14:44', '2:14:45', '2:14:46', '2:14:50', '2:14:51', '2:14:52',\n",
       "       '2:14:54', '2:14:57', '2:14:58', '2:15:00', '2:15:02', '2:15:03',\n",
       "       '2:15:04', '2:15:05', '2:15:08', '2:15:10', '2:15:12', '2:15:13',\n",
       "       '2:15:14', '2:15:18', '2:15:19', '2:15:27', '2:15:28', '2:15:29',\n",
       "       '2:15:30', '2:15:32', '2:15:34', '2:15:35'], dtype=object)"
      ]
     },
     "execution_count": 40,
     "metadata": {},
     "output_type": "execute_result"
    }
   ],
   "source": [
    "marathon.TIME.sort_values().head(200).unique()"
   ]
  },
  {
   "cell_type": "code",
   "execution_count": 41,
   "id": "7dbd0054",
   "metadata": {
    "scrolled": true
   },
   "outputs": [
    {
     "data": {
      "text/plain": [
       "Index(['year', 'PRECIP_mm', 'SUNSHINE_hrs', 'CLOUD_hrs', 'ATMOS_PRESS_mbar',\n",
       "       'AVG_TEMP_C', 'MAX_TEMP_C', 'MIN_TEMP_C'],\n",
       "      dtype='object')"
      ]
     },
     "execution_count": 41,
     "metadata": {},
     "output_type": "execute_result"
    }
   ],
   "source": [
    "weather.columns"
   ]
  },
  {
   "cell_type": "code",
   "execution_count": 42,
   "id": "6f8a2165",
   "metadata": {},
   "outputs": [
    {
     "data": {
      "text/plain": [
       "Index(['YEAR', 'PRECIP_mm', 'SUNSHINE_hrs', 'CLOUD_hrs', 'ATMOS_PRESS_mbar',\n",
       "       'AVG_TEMP_C', 'MAX_TEMP_C', 'MIN_TEMP_C'],\n",
       "      dtype='object')"
      ]
     },
     "execution_count": 42,
     "metadata": {},
     "output_type": "execute_result"
    }
   ],
   "source": [
    "#renaming the year column in 'weather' table to enable merging with the 'marathon' table\n",
    "weather.rename(columns={'year':'YEAR'}, inplace = True)\n",
    "weather.columns"
   ]
  },
  {
   "cell_type": "code",
   "execution_count": 43,
   "id": "2470e91a",
   "metadata": {},
   "outputs": [
    {
     "data": {
      "text/html": [
       "<div>\n",
       "<style scoped>\n",
       "    .dataframe tbody tr th:only-of-type {\n",
       "        vertical-align: middle;\n",
       "    }\n",
       "\n",
       "    .dataframe tbody tr th {\n",
       "        vertical-align: top;\n",
       "    }\n",
       "\n",
       "    .dataframe thead th {\n",
       "        text-align: right;\n",
       "    }\n",
       "</style>\n",
       "<table border=\"1\" class=\"dataframe\">\n",
       "  <thead>\n",
       "    <tr style=\"text-align: right;\">\n",
       "      <th></th>\n",
       "      <th>YEAR</th>\n",
       "      <th>COUNTRY</th>\n",
       "      <th>GENDER</th>\n",
       "      <th>AGE</th>\n",
       "      <th>TIME</th>\n",
       "      <th>PRECIP_mm</th>\n",
       "      <th>SUNSHINE_hrs</th>\n",
       "      <th>CLOUD_hrs</th>\n",
       "      <th>ATMOS_PRESS_mbar</th>\n",
       "      <th>AVG_TEMP_C</th>\n",
       "      <th>MAX_TEMP_C</th>\n",
       "      <th>MIN_TEMP_C</th>\n",
       "    </tr>\n",
       "  </thead>\n",
       "  <tbody>\n",
       "    <tr>\n",
       "      <th>0</th>\n",
       "      <td>2009</td>\n",
       "      <td>&lt;NA&gt;</td>\n",
       "      <td>male</td>\n",
       "      <td>35</td>\n",
       "      <td>2:06:08</td>\n",
       "      <td>0.0</td>\n",
       "      <td>10.9</td>\n",
       "      <td>0.6</td>\n",
       "      <td>1009.10</td>\n",
       "      <td>16.3</td>\n",
       "      <td>25.4</td>\n",
       "      <td>8.8</td>\n",
       "    </tr>\n",
       "    <tr>\n",
       "      <th>1</th>\n",
       "      <td>2009</td>\n",
       "      <td>&lt;NA&gt;</td>\n",
       "      <td>male</td>\n",
       "      <td>20</td>\n",
       "      <td>2:07:04</td>\n",
       "      <td>0.0</td>\n",
       "      <td>10.9</td>\n",
       "      <td>0.6</td>\n",
       "      <td>1009.10</td>\n",
       "      <td>16.3</td>\n",
       "      <td>25.4</td>\n",
       "      <td>8.8</td>\n",
       "    </tr>\n",
       "    <tr>\n",
       "      <th>2</th>\n",
       "      <td>2009</td>\n",
       "      <td>&lt;NA&gt;</td>\n",
       "      <td>male</td>\n",
       "      <td>20</td>\n",
       "      <td>2:07:41</td>\n",
       "      <td>0.0</td>\n",
       "      <td>10.9</td>\n",
       "      <td>0.6</td>\n",
       "      <td>1009.10</td>\n",
       "      <td>16.3</td>\n",
       "      <td>25.4</td>\n",
       "      <td>8.8</td>\n",
       "    </tr>\n",
       "    <tr>\n",
       "      <th>3</th>\n",
       "      <td>2009</td>\n",
       "      <td>&lt;NA&gt;</td>\n",
       "      <td>male</td>\n",
       "      <td>20</td>\n",
       "      <td>2:09:41</td>\n",
       "      <td>0.0</td>\n",
       "      <td>10.9</td>\n",
       "      <td>0.6</td>\n",
       "      <td>1009.10</td>\n",
       "      <td>16.3</td>\n",
       "      <td>25.4</td>\n",
       "      <td>8.8</td>\n",
       "    </tr>\n",
       "    <tr>\n",
       "      <th>4</th>\n",
       "      <td>2009</td>\n",
       "      <td>&lt;NA&gt;</td>\n",
       "      <td>male</td>\n",
       "      <td>20</td>\n",
       "      <td>2:09:58</td>\n",
       "      <td>0.0</td>\n",
       "      <td>10.9</td>\n",
       "      <td>0.6</td>\n",
       "      <td>1009.10</td>\n",
       "      <td>16.3</td>\n",
       "      <td>25.4</td>\n",
       "      <td>8.8</td>\n",
       "    </tr>\n",
       "    <tr>\n",
       "      <th>...</th>\n",
       "      <td>...</td>\n",
       "      <td>...</td>\n",
       "      <td>...</td>\n",
       "      <td>...</td>\n",
       "      <td>...</td>\n",
       "      <td>...</td>\n",
       "      <td>...</td>\n",
       "      <td>...</td>\n",
       "      <td>...</td>\n",
       "      <td>...</td>\n",
       "      <td>...</td>\n",
       "      <td>...</td>\n",
       "    </tr>\n",
       "    <tr>\n",
       "      <th>324753</th>\n",
       "      <td>2019</td>\n",
       "      <td>GER</td>\n",
       "      <td>male</td>\n",
       "      <td>65</td>\n",
       "      <td>7:12:17</td>\n",
       "      <td>8.0</td>\n",
       "      <td>0.7</td>\n",
       "      <td>6.8</td>\n",
       "      <td>993.62</td>\n",
       "      <td>14.0</td>\n",
       "      <td>16.4</td>\n",
       "      <td>11.2</td>\n",
       "    </tr>\n",
       "    <tr>\n",
       "      <th>324754</th>\n",
       "      <td>2019</td>\n",
       "      <td>GER</td>\n",
       "      <td>male</td>\n",
       "      <td>75</td>\n",
       "      <td>7:12:30</td>\n",
       "      <td>8.0</td>\n",
       "      <td>0.7</td>\n",
       "      <td>6.8</td>\n",
       "      <td>993.62</td>\n",
       "      <td>14.0</td>\n",
       "      <td>16.4</td>\n",
       "      <td>11.2</td>\n",
       "    </tr>\n",
       "    <tr>\n",
       "      <th>324755</th>\n",
       "      <td>2019</td>\n",
       "      <td>GER</td>\n",
       "      <td>male</td>\n",
       "      <td>80</td>\n",
       "      <td>7:15:28</td>\n",
       "      <td>8.0</td>\n",
       "      <td>0.7</td>\n",
       "      <td>6.8</td>\n",
       "      <td>993.62</td>\n",
       "      <td>14.0</td>\n",
       "      <td>16.4</td>\n",
       "      <td>11.2</td>\n",
       "    </tr>\n",
       "    <tr>\n",
       "      <th>324756</th>\n",
       "      <td>2019</td>\n",
       "      <td>USA</td>\n",
       "      <td>male</td>\n",
       "      <td>30</td>\n",
       "      <td>7:19:28</td>\n",
       "      <td>8.0</td>\n",
       "      <td>0.7</td>\n",
       "      <td>6.8</td>\n",
       "      <td>993.62</td>\n",
       "      <td>14.0</td>\n",
       "      <td>16.4</td>\n",
       "      <td>11.2</td>\n",
       "    </tr>\n",
       "    <tr>\n",
       "      <th>324757</th>\n",
       "      <td>2019</td>\n",
       "      <td>GER</td>\n",
       "      <td>male</td>\n",
       "      <td>60</td>\n",
       "      <td>7:26:09</td>\n",
       "      <td>8.0</td>\n",
       "      <td>0.7</td>\n",
       "      <td>6.8</td>\n",
       "      <td>993.62</td>\n",
       "      <td>14.0</td>\n",
       "      <td>16.4</td>\n",
       "      <td>11.2</td>\n",
       "    </tr>\n",
       "  </tbody>\n",
       "</table>\n",
       "<p>324758 rows × 12 columns</p>\n",
       "</div>"
      ],
      "text/plain": [
       "        YEAR COUNTRY GENDER  AGE     TIME  PRECIP_mm  SUNSHINE_hrs  CLOUD_hrs  \\\n",
       "0       2009    <NA>   male   35  2:06:08        0.0          10.9        0.6   \n",
       "1       2009    <NA>   male   20  2:07:04        0.0          10.9        0.6   \n",
       "2       2009    <NA>   male   20  2:07:41        0.0          10.9        0.6   \n",
       "3       2009    <NA>   male   20  2:09:41        0.0          10.9        0.6   \n",
       "4       2009    <NA>   male   20  2:09:58        0.0          10.9        0.6   \n",
       "...      ...     ...    ...  ...      ...        ...           ...        ...   \n",
       "324753  2019     GER   male   65  7:12:17        8.0           0.7        6.8   \n",
       "324754  2019     GER   male   75  7:12:30        8.0           0.7        6.8   \n",
       "324755  2019     GER   male   80  7:15:28        8.0           0.7        6.8   \n",
       "324756  2019     USA   male   30  7:19:28        8.0           0.7        6.8   \n",
       "324757  2019     GER   male   60  7:26:09        8.0           0.7        6.8   \n",
       "\n",
       "        ATMOS_PRESS_mbar  AVG_TEMP_C  MAX_TEMP_C  MIN_TEMP_C  \n",
       "0                1009.10        16.3        25.4         8.8  \n",
       "1                1009.10        16.3        25.4         8.8  \n",
       "2                1009.10        16.3        25.4         8.8  \n",
       "3                1009.10        16.3        25.4         8.8  \n",
       "4                1009.10        16.3        25.4         8.8  \n",
       "...                  ...         ...         ...         ...  \n",
       "324753            993.62        14.0        16.4        11.2  \n",
       "324754            993.62        14.0        16.4        11.2  \n",
       "324755            993.62        14.0        16.4        11.2  \n",
       "324756            993.62        14.0        16.4        11.2  \n",
       "324757            993.62        14.0        16.4        11.2  \n",
       "\n",
       "[324758 rows x 12 columns]"
      ]
     },
     "execution_count": 43,
     "metadata": {},
     "output_type": "execute_result"
    }
   ],
   "source": [
    "#merging with the 'marathon' table\n",
    "mara_thon = pd.merge(marathon, weather, how = 'left', on = 'YEAR')\n",
    "mara_thon"
   ]
  },
  {
   "cell_type": "code",
   "execution_count": 44,
   "id": "fd220e1c",
   "metadata": {},
   "outputs": [
    {
     "data": {
      "text/html": [
       "<div>\n",
       "<style scoped>\n",
       "    .dataframe tbody tr th:only-of-type {\n",
       "        vertical-align: middle;\n",
       "    }\n",
       "\n",
       "    .dataframe tbody tr th {\n",
       "        vertical-align: top;\n",
       "    }\n",
       "\n",
       "    .dataframe thead th {\n",
       "        text-align: right;\n",
       "    }\n",
       "</style>\n",
       "<table border=\"1\" class=\"dataframe\">\n",
       "  <thead>\n",
       "    <tr style=\"text-align: right;\">\n",
       "      <th></th>\n",
       "      <th>YEAR</th>\n",
       "      <th>COUNTRY</th>\n",
       "      <th>GENDER</th>\n",
       "      <th>AGE</th>\n",
       "      <th>TIME</th>\n",
       "      <th>PRECIP_mm</th>\n",
       "      <th>SUNSHINE_hrs</th>\n",
       "      <th>CLOUD_hrs</th>\n",
       "      <th>ATMOS_PRESS_mbar</th>\n",
       "      <th>AVG_TEMP_C</th>\n",
       "      <th>MAX_TEMP_C</th>\n",
       "      <th>MIN_TEMP_C</th>\n",
       "    </tr>\n",
       "  </thead>\n",
       "  <tbody>\n",
       "    <tr>\n",
       "      <th>260606</th>\n",
       "      <td>2018</td>\n",
       "      <td>&lt;NA&gt;</td>\n",
       "      <td>male</td>\n",
       "      <td>30</td>\n",
       "      <td>2:01:39</td>\n",
       "      <td>0.0</td>\n",
       "      <td>7.75</td>\n",
       "      <td>5.6</td>\n",
       "      <td>1013.82</td>\n",
       "      <td>14.9</td>\n",
       "      <td>22.4</td>\n",
       "      <td>9.0</td>\n",
       "    </tr>\n",
       "    <tr>\n",
       "      <th>295182</th>\n",
       "      <td>2019</td>\n",
       "      <td>ETH</td>\n",
       "      <td>male</td>\n",
       "      <td>35</td>\n",
       "      <td>2:01:41</td>\n",
       "      <td>8.0</td>\n",
       "      <td>0.70</td>\n",
       "      <td>6.8</td>\n",
       "      <td>993.62</td>\n",
       "      <td>14.0</td>\n",
       "      <td>16.4</td>\n",
       "      <td>11.2</td>\n",
       "    </tr>\n",
       "    <tr>\n",
       "      <th>141924</th>\n",
       "      <td>2014</td>\n",
       "      <td>&lt;NA&gt;</td>\n",
       "      <td>male</td>\n",
       "      <td>30</td>\n",
       "      <td>2:02:57</td>\n",
       "      <td>0.0</td>\n",
       "      <td>9.78</td>\n",
       "      <td>4.5</td>\n",
       "      <td>1016.39</td>\n",
       "      <td>12.7</td>\n",
       "      <td>21.2</td>\n",
       "      <td>5.1</td>\n",
       "    </tr>\n",
       "    <tr>\n",
       "      <th>197315</th>\n",
       "      <td>2016</td>\n",
       "      <td>&lt;NA&gt;</td>\n",
       "      <td>male</td>\n",
       "      <td>30</td>\n",
       "      <td>2:03:03</td>\n",
       "      <td>0.0</td>\n",
       "      <td>10.43</td>\n",
       "      <td>5.6</td>\n",
       "      <td>1012.05</td>\n",
       "      <td>14.5</td>\n",
       "      <td>23.0</td>\n",
       "      <td>8.3</td>\n",
       "    </tr>\n",
       "    <tr>\n",
       "      <th>112131</th>\n",
       "      <td>2013</td>\n",
       "      <td>&lt;NA&gt;</td>\n",
       "      <td>male</td>\n",
       "      <td>30</td>\n",
       "      <td>2:03:23</td>\n",
       "      <td>0.0</td>\n",
       "      <td>10.70</td>\n",
       "      <td>1.4</td>\n",
       "      <td>1008.90</td>\n",
       "      <td>8.9</td>\n",
       "      <td>15.2</td>\n",
       "      <td>4.4</td>\n",
       "    </tr>\n",
       "    <tr>\n",
       "      <th>227784</th>\n",
       "      <td>2017</td>\n",
       "      <td>&lt;NA&gt;</td>\n",
       "      <td>male</td>\n",
       "      <td>30</td>\n",
       "      <td>2:03:32</td>\n",
       "      <td>0.3</td>\n",
       "      <td>1.50</td>\n",
       "      <td>7.5</td>\n",
       "      <td>1012.53</td>\n",
       "      <td>14.2</td>\n",
       "      <td>16.4</td>\n",
       "      <td>12.3</td>\n",
       "    </tr>\n",
       "    <tr>\n",
       "      <th>56430</th>\n",
       "      <td>2011</td>\n",
       "      <td>&lt;NA&gt;</td>\n",
       "      <td>male</td>\n",
       "      <td>20</td>\n",
       "      <td>2:03:38</td>\n",
       "      <td>0.0</td>\n",
       "      <td>11.30</td>\n",
       "      <td>0.8</td>\n",
       "      <td>1010.30</td>\n",
       "      <td>13.6</td>\n",
       "      <td>22.1</td>\n",
       "      <td>7.1</td>\n",
       "    </tr>\n",
       "    <tr>\n",
       "      <th>166771</th>\n",
       "      <td>2015</td>\n",
       "      <td>&lt;NA&gt;</td>\n",
       "      <td>male</td>\n",
       "      <td>30</td>\n",
       "      <td>2:04:00</td>\n",
       "      <td>0.0</td>\n",
       "      <td>8.93</td>\n",
       "      <td>2.0</td>\n",
       "      <td>1021.40</td>\n",
       "      <td>10.1</td>\n",
       "      <td>16.9</td>\n",
       "      <td>5.2</td>\n",
       "    </tr>\n",
       "    <tr>\n",
       "      <th>83870</th>\n",
       "      <td>2012</td>\n",
       "      <td>&lt;NA&gt;</td>\n",
       "      <td>male</td>\n",
       "      <td>30</td>\n",
       "      <td>2:04:15</td>\n",
       "      <td>0.0</td>\n",
       "      <td>8.90</td>\n",
       "      <td>1.6</td>\n",
       "      <td>1011.01</td>\n",
       "      <td>10.5</td>\n",
       "      <td>16.6</td>\n",
       "      <td>5.0</td>\n",
       "    </tr>\n",
       "    <tr>\n",
       "      <th>28688</th>\n",
       "      <td>2010</td>\n",
       "      <td>&lt;NA&gt;</td>\n",
       "      <td>male</td>\n",
       "      <td>20</td>\n",
       "      <td>2:05:08</td>\n",
       "      <td>29.8</td>\n",
       "      <td>0.00</td>\n",
       "      <td>7.8</td>\n",
       "      <td>995.80</td>\n",
       "      <td>10.5</td>\n",
       "      <td>11.3</td>\n",
       "      <td>9.7</td>\n",
       "    </tr>\n",
       "    <tr>\n",
       "      <th>0</th>\n",
       "      <td>2009</td>\n",
       "      <td>&lt;NA&gt;</td>\n",
       "      <td>male</td>\n",
       "      <td>35</td>\n",
       "      <td>2:06:08</td>\n",
       "      <td>0.0</td>\n",
       "      <td>10.90</td>\n",
       "      <td>0.6</td>\n",
       "      <td>1009.10</td>\n",
       "      <td>16.3</td>\n",
       "      <td>25.4</td>\n",
       "      <td>8.8</td>\n",
       "    </tr>\n",
       "  </tbody>\n",
       "</table>\n",
       "</div>"
      ],
      "text/plain": [
       "        YEAR COUNTRY GENDER  AGE     TIME  PRECIP_mm  SUNSHINE_hrs  CLOUD_hrs  \\\n",
       "260606  2018    <NA>   male   30  2:01:39        0.0          7.75        5.6   \n",
       "295182  2019     ETH   male   35  2:01:41        8.0          0.70        6.8   \n",
       "141924  2014    <NA>   male   30  2:02:57        0.0          9.78        4.5   \n",
       "197315  2016    <NA>   male   30  2:03:03        0.0         10.43        5.6   \n",
       "112131  2013    <NA>   male   30  2:03:23        0.0         10.70        1.4   \n",
       "227784  2017    <NA>   male   30  2:03:32        0.3          1.50        7.5   \n",
       "56430   2011    <NA>   male   20  2:03:38        0.0         11.30        0.8   \n",
       "166771  2015    <NA>   male   30  2:04:00        0.0          8.93        2.0   \n",
       "83870   2012    <NA>   male   30  2:04:15        0.0          8.90        1.6   \n",
       "28688   2010    <NA>   male   20  2:05:08       29.8          0.00        7.8   \n",
       "0       2009    <NA>   male   35  2:06:08        0.0         10.90        0.6   \n",
       "\n",
       "        ATMOS_PRESS_mbar  AVG_TEMP_C  MAX_TEMP_C  MIN_TEMP_C  \n",
       "260606           1013.82        14.9        22.4         9.0  \n",
       "295182            993.62        14.0        16.4        11.2  \n",
       "141924           1016.39        12.7        21.2         5.1  \n",
       "197315           1012.05        14.5        23.0         8.3  \n",
       "112131           1008.90         8.9        15.2         4.4  \n",
       "227784           1012.53        14.2        16.4        12.3  \n",
       "56430            1010.30        13.6        22.1         7.1  \n",
       "166771           1021.40        10.1        16.9         5.2  \n",
       "83870            1011.01        10.5        16.6         5.0  \n",
       "28688             995.80        10.5        11.3         9.7  \n",
       "0                1009.10        16.3        25.4         8.8  "
      ]
     },
     "execution_count": 44,
     "metadata": {},
     "output_type": "execute_result"
    }
   ],
   "source": [
    "#Creating a datframe to display winners per year\n",
    "winners = mara_thon.sort_values('TIME', ascending = True).groupby('YEAR').head(1)\n",
    "winners"
   ]
  },
  {
   "cell_type": "code",
   "execution_count": 45,
   "id": "15bb4575",
   "metadata": {
    "scrolled": true
   },
   "outputs": [
    {
     "name": "stderr",
     "output_type": "stream",
     "text": [
      "/tmp/ipykernel_38/2595156087.py:2: UserWarning: Pandas doesn't allow columns to be created via a new attribute name - see https://pandas.pydata.org/pandas-docs/stable/indexing.html#attribute-access\n",
      "  mara_thon.fm = mara_thon[mara_thon.GENDER == 'female']\n"
     ]
    },
    {
     "data": {
      "text/html": [
       "<div>\n",
       "<style scoped>\n",
       "    .dataframe tbody tr th:only-of-type {\n",
       "        vertical-align: middle;\n",
       "    }\n",
       "\n",
       "    .dataframe tbody tr th {\n",
       "        vertical-align: top;\n",
       "    }\n",
       "\n",
       "    .dataframe thead th {\n",
       "        text-align: right;\n",
       "    }\n",
       "</style>\n",
       "<table border=\"1\" class=\"dataframe\">\n",
       "  <thead>\n",
       "    <tr style=\"text-align: right;\">\n",
       "      <th></th>\n",
       "      <th>YEAR</th>\n",
       "      <th>COUNTRY</th>\n",
       "      <th>GENDER</th>\n",
       "      <th>AGE</th>\n",
       "      <th>TIME</th>\n",
       "      <th>PRECIP_mm</th>\n",
       "      <th>SUNSHINE_hrs</th>\n",
       "      <th>CLOUD_hrs</th>\n",
       "      <th>ATMOS_PRESS_mbar</th>\n",
       "      <th>AVG_TEMP_C</th>\n",
       "      <th>MAX_TEMP_C</th>\n",
       "      <th>MIN_TEMP_C</th>\n",
       "    </tr>\n",
       "  </thead>\n",
       "  <tbody>\n",
       "    <tr>\n",
       "      <th>30</th>\n",
       "      <td>2009</td>\n",
       "      <td>&lt;NA&gt;</td>\n",
       "      <td>female</td>\n",
       "      <td>20</td>\n",
       "      <td>2:24:47</td>\n",
       "      <td>0.0</td>\n",
       "      <td>10.90</td>\n",
       "      <td>0.6</td>\n",
       "      <td>1009.10</td>\n",
       "      <td>16.3</td>\n",
       "      <td>25.4</td>\n",
       "      <td>8.8</td>\n",
       "    </tr>\n",
       "    <tr>\n",
       "      <th>38</th>\n",
       "      <td>2009</td>\n",
       "      <td>&lt;NA&gt;</td>\n",
       "      <td>female</td>\n",
       "      <td>35</td>\n",
       "      <td>2:26:24</td>\n",
       "      <td>0.0</td>\n",
       "      <td>10.90</td>\n",
       "      <td>0.6</td>\n",
       "      <td>1009.10</td>\n",
       "      <td>16.3</td>\n",
       "      <td>25.4</td>\n",
       "      <td>8.8</td>\n",
       "    </tr>\n",
       "    <tr>\n",
       "      <th>39</th>\n",
       "      <td>2009</td>\n",
       "      <td>&lt;NA&gt;</td>\n",
       "      <td>female</td>\n",
       "      <td>20</td>\n",
       "      <td>2:26:38</td>\n",
       "      <td>0.0</td>\n",
       "      <td>10.90</td>\n",
       "      <td>0.6</td>\n",
       "      <td>1009.10</td>\n",
       "      <td>16.3</td>\n",
       "      <td>25.4</td>\n",
       "      <td>8.8</td>\n",
       "    </tr>\n",
       "    <tr>\n",
       "      <th>40</th>\n",
       "      <td>2009</td>\n",
       "      <td>&lt;NA&gt;</td>\n",
       "      <td>female</td>\n",
       "      <td>30</td>\n",
       "      <td>2:26:45</td>\n",
       "      <td>0.0</td>\n",
       "      <td>10.90</td>\n",
       "      <td>0.6</td>\n",
       "      <td>1009.10</td>\n",
       "      <td>16.3</td>\n",
       "      <td>25.4</td>\n",
       "      <td>8.8</td>\n",
       "    </tr>\n",
       "    <tr>\n",
       "      <th>44</th>\n",
       "      <td>2009</td>\n",
       "      <td>&lt;NA&gt;</td>\n",
       "      <td>female</td>\n",
       "      <td>20</td>\n",
       "      <td>2:27:09</td>\n",
       "      <td>0.0</td>\n",
       "      <td>10.90</td>\n",
       "      <td>0.6</td>\n",
       "      <td>1009.10</td>\n",
       "      <td>16.3</td>\n",
       "      <td>25.4</td>\n",
       "      <td>8.8</td>\n",
       "    </tr>\n",
       "    <tr>\n",
       "      <th>...</th>\n",
       "      <td>...</td>\n",
       "      <td>...</td>\n",
       "      <td>...</td>\n",
       "      <td>...</td>\n",
       "      <td>...</td>\n",
       "      <td>...</td>\n",
       "      <td>...</td>\n",
       "      <td>...</td>\n",
       "      <td>...</td>\n",
       "      <td>...</td>\n",
       "      <td>...</td>\n",
       "      <td>...</td>\n",
       "    </tr>\n",
       "    <tr>\n",
       "      <th>295172</th>\n",
       "      <td>2018</td>\n",
       "      <td>&lt;NA&gt;</td>\n",
       "      <td>female</td>\n",
       "      <td>60</td>\n",
       "      <td>7:13:35</td>\n",
       "      <td>0.0</td>\n",
       "      <td>7.75</td>\n",
       "      <td>5.6</td>\n",
       "      <td>1013.82</td>\n",
       "      <td>14.9</td>\n",
       "      <td>22.4</td>\n",
       "      <td>9.0</td>\n",
       "    </tr>\n",
       "    <tr>\n",
       "      <th>295173</th>\n",
       "      <td>2018</td>\n",
       "      <td>&lt;NA&gt;</td>\n",
       "      <td>female</td>\n",
       "      <td>45</td>\n",
       "      <td>7:13:36</td>\n",
       "      <td>0.0</td>\n",
       "      <td>7.75</td>\n",
       "      <td>5.6</td>\n",
       "      <td>1013.82</td>\n",
       "      <td>14.9</td>\n",
       "      <td>22.4</td>\n",
       "      <td>9.0</td>\n",
       "    </tr>\n",
       "    <tr>\n",
       "      <th>295176</th>\n",
       "      <td>2018</td>\n",
       "      <td>&lt;NA&gt;</td>\n",
       "      <td>female</td>\n",
       "      <td>50</td>\n",
       "      <td>7:19:21</td>\n",
       "      <td>0.0</td>\n",
       "      <td>7.75</td>\n",
       "      <td>5.6</td>\n",
       "      <td>1013.82</td>\n",
       "      <td>14.9</td>\n",
       "      <td>22.4</td>\n",
       "      <td>9.0</td>\n",
       "    </tr>\n",
       "    <tr>\n",
       "      <th>295180</th>\n",
       "      <td>2018</td>\n",
       "      <td>&lt;NA&gt;</td>\n",
       "      <td>female</td>\n",
       "      <td>45</td>\n",
       "      <td>7:34:33</td>\n",
       "      <td>0.0</td>\n",
       "      <td>7.75</td>\n",
       "      <td>5.6</td>\n",
       "      <td>1013.82</td>\n",
       "      <td>14.9</td>\n",
       "      <td>22.4</td>\n",
       "      <td>9.0</td>\n",
       "    </tr>\n",
       "    <tr>\n",
       "      <th>295181</th>\n",
       "      <td>2018</td>\n",
       "      <td>&lt;NA&gt;</td>\n",
       "      <td>female</td>\n",
       "      <td>30</td>\n",
       "      <td>7:40:08</td>\n",
       "      <td>0.0</td>\n",
       "      <td>7.75</td>\n",
       "      <td>5.6</td>\n",
       "      <td>1013.82</td>\n",
       "      <td>14.9</td>\n",
       "      <td>22.4</td>\n",
       "      <td>9.0</td>\n",
       "    </tr>\n",
       "  </tbody>\n",
       "</table>\n",
       "<p>80002 rows × 12 columns</p>\n",
       "</div>"
      ],
      "text/plain": [
       "        YEAR COUNTRY  GENDER  AGE     TIME  PRECIP_mm  SUNSHINE_hrs  \\\n",
       "30      2009    <NA>  female   20  2:24:47        0.0         10.90   \n",
       "38      2009    <NA>  female   35  2:26:24        0.0         10.90   \n",
       "39      2009    <NA>  female   20  2:26:38        0.0         10.90   \n",
       "40      2009    <NA>  female   30  2:26:45        0.0         10.90   \n",
       "44      2009    <NA>  female   20  2:27:09        0.0         10.90   \n",
       "...      ...     ...     ...  ...      ...        ...           ...   \n",
       "295172  2018    <NA>  female   60  7:13:35        0.0          7.75   \n",
       "295173  2018    <NA>  female   45  7:13:36        0.0          7.75   \n",
       "295176  2018    <NA>  female   50  7:19:21        0.0          7.75   \n",
       "295180  2018    <NA>  female   45  7:34:33        0.0          7.75   \n",
       "295181  2018    <NA>  female   30  7:40:08        0.0          7.75   \n",
       "\n",
       "        CLOUD_hrs  ATMOS_PRESS_mbar  AVG_TEMP_C  MAX_TEMP_C  MIN_TEMP_C  \n",
       "30            0.6           1009.10        16.3        25.4         8.8  \n",
       "38            0.6           1009.10        16.3        25.4         8.8  \n",
       "39            0.6           1009.10        16.3        25.4         8.8  \n",
       "40            0.6           1009.10        16.3        25.4         8.8  \n",
       "44            0.6           1009.10        16.3        25.4         8.8  \n",
       "...           ...               ...         ...         ...         ...  \n",
       "295172        5.6           1013.82        14.9        22.4         9.0  \n",
       "295173        5.6           1013.82        14.9        22.4         9.0  \n",
       "295176        5.6           1013.82        14.9        22.4         9.0  \n",
       "295180        5.6           1013.82        14.9        22.4         9.0  \n",
       "295181        5.6           1013.82        14.9        22.4         9.0  \n",
       "\n",
       "[80002 rows x 12 columns]"
      ]
     },
     "execution_count": 45,
     "metadata": {},
     "output_type": "execute_result"
    }
   ],
   "source": [
    "#creating a dataframe to display female winners only\n",
    "mara_thon.fm = mara_thon[mara_thon.GENDER == 'female']\n",
    "mara_thon.fm"
   ]
  },
  {
   "cell_type": "code",
   "execution_count": 46,
   "id": "4cae2576",
   "metadata": {},
   "outputs": [
    {
     "data": {
      "text/html": [
       "<div>\n",
       "<style scoped>\n",
       "    .dataframe tbody tr th:only-of-type {\n",
       "        vertical-align: middle;\n",
       "    }\n",
       "\n",
       "    .dataframe tbody tr th {\n",
       "        vertical-align: top;\n",
       "    }\n",
       "\n",
       "    .dataframe thead th {\n",
       "        text-align: right;\n",
       "    }\n",
       "</style>\n",
       "<table border=\"1\" class=\"dataframe\">\n",
       "  <thead>\n",
       "    <tr style=\"text-align: right;\">\n",
       "      <th></th>\n",
       "      <th>YEAR</th>\n",
       "      <th>COUNTRY</th>\n",
       "      <th>GENDER</th>\n",
       "      <th>AGE</th>\n",
       "      <th>TIME</th>\n",
       "      <th>PRECIP_mm</th>\n",
       "      <th>SUNSHINE_hrs</th>\n",
       "      <th>CLOUD_hrs</th>\n",
       "      <th>ATMOS_PRESS_mbar</th>\n",
       "      <th>AVG_TEMP_C</th>\n",
       "      <th>MAX_TEMP_C</th>\n",
       "      <th>MIN_TEMP_C</th>\n",
       "    </tr>\n",
       "  </thead>\n",
       "  <tbody>\n",
       "    <tr>\n",
       "      <th>260627</th>\n",
       "      <td>2018</td>\n",
       "      <td>&lt;NA&gt;</td>\n",
       "      <td>female</td>\n",
       "      <td>35</td>\n",
       "      <td>2:18:11</td>\n",
       "      <td>0.0</td>\n",
       "      <td>7.75</td>\n",
       "      <td>5.6</td>\n",
       "      <td>1013.82</td>\n",
       "      <td>14.9</td>\n",
       "      <td>22.4</td>\n",
       "      <td>9.0</td>\n",
       "    </tr>\n",
       "    <tr>\n",
       "      <th>166815</th>\n",
       "      <td>2015</td>\n",
       "      <td>&lt;NA&gt;</td>\n",
       "      <td>female</td>\n",
       "      <td>30</td>\n",
       "      <td>2:19:25</td>\n",
       "      <td>0.0</td>\n",
       "      <td>8.93</td>\n",
       "      <td>2.0</td>\n",
       "      <td>1021.40</td>\n",
       "      <td>10.1</td>\n",
       "      <td>16.9</td>\n",
       "      <td>5.2</td>\n",
       "    </tr>\n",
       "    <tr>\n",
       "      <th>56456</th>\n",
       "      <td>2011</td>\n",
       "      <td>&lt;NA&gt;</td>\n",
       "      <td>female</td>\n",
       "      <td>20</td>\n",
       "      <td>2:19:44</td>\n",
       "      <td>0.0</td>\n",
       "      <td>11.30</td>\n",
       "      <td>0.8</td>\n",
       "      <td>1010.30</td>\n",
       "      <td>13.6</td>\n",
       "      <td>22.1</td>\n",
       "      <td>7.1</td>\n",
       "    </tr>\n",
       "    <tr>\n",
       "      <th>141947</th>\n",
       "      <td>2014</td>\n",
       "      <td>&lt;NA&gt;</td>\n",
       "      <td>female</td>\n",
       "      <td>30</td>\n",
       "      <td>2:20:18</td>\n",
       "      <td>0.0</td>\n",
       "      <td>9.78</td>\n",
       "      <td>4.5</td>\n",
       "      <td>1016.39</td>\n",
       "      <td>12.7</td>\n",
       "      <td>21.2</td>\n",
       "      <td>5.1</td>\n",
       "    </tr>\n",
       "    <tr>\n",
       "      <th>227836</th>\n",
       "      <td>2017</td>\n",
       "      <td>&lt;NA&gt;</td>\n",
       "      <td>female</td>\n",
       "      <td>30</td>\n",
       "      <td>2:20:23</td>\n",
       "      <td>0.3</td>\n",
       "      <td>1.50</td>\n",
       "      <td>7.5</td>\n",
       "      <td>1012.53</td>\n",
       "      <td>14.2</td>\n",
       "      <td>16.4</td>\n",
       "      <td>12.3</td>\n",
       "    </tr>\n",
       "    <tr>\n",
       "      <th>83892</th>\n",
       "      <td>2012</td>\n",
       "      <td>&lt;NA&gt;</td>\n",
       "      <td>female</td>\n",
       "      <td>20</td>\n",
       "      <td>2:20:30</td>\n",
       "      <td>0.0</td>\n",
       "      <td>8.90</td>\n",
       "      <td>1.6</td>\n",
       "      <td>1011.01</td>\n",
       "      <td>10.5</td>\n",
       "      <td>16.6</td>\n",
       "      <td>5.0</td>\n",
       "    </tr>\n",
       "    <tr>\n",
       "      <th>197348</th>\n",
       "      <td>2016</td>\n",
       "      <td>&lt;NA&gt;</td>\n",
       "      <td>female</td>\n",
       "      <td>30</td>\n",
       "      <td>2:20:45</td>\n",
       "      <td>0.0</td>\n",
       "      <td>10.43</td>\n",
       "      <td>5.6</td>\n",
       "      <td>1012.05</td>\n",
       "      <td>14.5</td>\n",
       "      <td>23.0</td>\n",
       "      <td>8.3</td>\n",
       "    </tr>\n",
       "    <tr>\n",
       "      <th>112159</th>\n",
       "      <td>2013</td>\n",
       "      <td>&lt;NA&gt;</td>\n",
       "      <td>female</td>\n",
       "      <td>20</td>\n",
       "      <td>2:21:13</td>\n",
       "      <td>0.0</td>\n",
       "      <td>10.70</td>\n",
       "      <td>1.4</td>\n",
       "      <td>1008.90</td>\n",
       "      <td>8.9</td>\n",
       "      <td>15.2</td>\n",
       "      <td>4.4</td>\n",
       "    </tr>\n",
       "    <tr>\n",
       "      <th>28714</th>\n",
       "      <td>2010</td>\n",
       "      <td>&lt;NA&gt;</td>\n",
       "      <td>female</td>\n",
       "      <td>20</td>\n",
       "      <td>2:23:58</td>\n",
       "      <td>29.8</td>\n",
       "      <td>0.00</td>\n",
       "      <td>7.8</td>\n",
       "      <td>995.80</td>\n",
       "      <td>10.5</td>\n",
       "      <td>11.3</td>\n",
       "      <td>9.7</td>\n",
       "    </tr>\n",
       "    <tr>\n",
       "      <th>30</th>\n",
       "      <td>2009</td>\n",
       "      <td>&lt;NA&gt;</td>\n",
       "      <td>female</td>\n",
       "      <td>20</td>\n",
       "      <td>2:24:47</td>\n",
       "      <td>0.0</td>\n",
       "      <td>10.90</td>\n",
       "      <td>0.6</td>\n",
       "      <td>1009.10</td>\n",
       "      <td>16.3</td>\n",
       "      <td>25.4</td>\n",
       "      <td>8.8</td>\n",
       "    </tr>\n",
       "  </tbody>\n",
       "</table>\n",
       "</div>"
      ],
      "text/plain": [
       "        YEAR COUNTRY  GENDER  AGE     TIME  PRECIP_mm  SUNSHINE_hrs  \\\n",
       "260627  2018    <NA>  female   35  2:18:11        0.0          7.75   \n",
       "166815  2015    <NA>  female   30  2:19:25        0.0          8.93   \n",
       "56456   2011    <NA>  female   20  2:19:44        0.0         11.30   \n",
       "141947  2014    <NA>  female   30  2:20:18        0.0          9.78   \n",
       "227836  2017    <NA>  female   30  2:20:23        0.3          1.50   \n",
       "83892   2012    <NA>  female   20  2:20:30        0.0          8.90   \n",
       "197348  2016    <NA>  female   30  2:20:45        0.0         10.43   \n",
       "112159  2013    <NA>  female   20  2:21:13        0.0         10.70   \n",
       "28714   2010    <NA>  female   20  2:23:58       29.8          0.00   \n",
       "30      2009    <NA>  female   20  2:24:47        0.0         10.90   \n",
       "\n",
       "        CLOUD_hrs  ATMOS_PRESS_mbar  AVG_TEMP_C  MAX_TEMP_C  MIN_TEMP_C  \n",
       "260627        5.6           1013.82        14.9        22.4         9.0  \n",
       "166815        2.0           1021.40        10.1        16.9         5.2  \n",
       "56456         0.8           1010.30        13.6        22.1         7.1  \n",
       "141947        4.5           1016.39        12.7        21.2         5.1  \n",
       "227836        7.5           1012.53        14.2        16.4        12.3  \n",
       "83892         1.6           1011.01        10.5        16.6         5.0  \n",
       "197348        5.6           1012.05        14.5        23.0         8.3  \n",
       "112159        1.4           1008.90         8.9        15.2         4.4  \n",
       "28714         7.8            995.80        10.5        11.3         9.7  \n",
       "30            0.6           1009.10        16.3        25.4         8.8  "
      ]
     },
     "execution_count": 46,
     "metadata": {},
     "output_type": "execute_result"
    }
   ],
   "source": [
    "fem = mara_thon.fm.sort_values('TIME', ascending = True).groupby('YEAR').head(1)\n",
    "fem"
   ]
  },
  {
   "cell_type": "markdown",
   "id": "8f146782",
   "metadata": {},
   "source": [
    "## Visualizations for the Berlin Marathon dataset"
   ]
  },
  {
   "cell_type": "code",
   "execution_count": 177,
   "id": "453136e9",
   "metadata": {
    "scrolled": true
   },
   "outputs": [
    {
     "data": {
      "image/png": "[encoded data removed]",
      "text/plain": [
       "<Figure size 720x360 with 1 Axes>"
      ]
     },
     "metadata": {},
     "output_type": "display_data"
    }
   ],
   "source": [
    "#chart to show winners time per year\n",
    "plt.figure(figsize=(10,5))\n",
    "sns.set_style('darkgrid')\n",
    "sns.lineplot(x = winners.YEAR, y = winners.TIME);"
   ]
  },
  {
   "cell_type": "code",
   "execution_count": 178,
   "id": "37f63688",
   "metadata": {
    "scrolled": true
   },
   "outputs": [
    {
     "data": {
      "image/png": "[encoded data removed]",
      "text/plain": [
       "<Figure size 720x360 with 1 Axes>"
      ]
     },
     "metadata": {},
     "output_type": "display_data"
    }
   ],
   "source": [
    "#chart to show average temperature per year\n",
    "plt.figure(figsize=(10,5))\n",
    "sns.lineplot(x = winners.YEAR, y = winners.AVG_TEMP_C);"
   ]
  },
  {
   "cell_type": "code",
   "execution_count": 174,
   "id": "99ff5131",
   "metadata": {
    "scrolled": true
   },
   "outputs": [
    {
     "data": {
      "text/plain": [
       "<AxesSubplot:xlabel='YEAR', ylabel='TIME'>"
      ]
     },
     "execution_count": 174,
     "metadata": {},
     "output_type": "execute_result"
    },
    {
     "data": {
      "image/png": "[encoded data removed]",
      "text/plain": [
       "<Figure size 720x360 with 1 Axes>"
      ]
     },
     "metadata": {},
     "output_type": "display_data"
    }
   ],
   "source": [
    "#chart to show female winners time per year\n",
    "plt.figure(figsize=(10,5))\n",
    "sns.lineplot(x = fem.YEAR, y = fem.TIME)"
   ]
  },
  {
   "cell_type": "code",
   "execution_count": 179,
   "id": "709bf127",
   "metadata": {},
   "outputs": [
    {
     "data": {
      "text/plain": [
       "<AxesSubplot:xlabel='YEAR', ylabel='AGE'>"
      ]
     },
     "execution_count": 179,
     "metadata": {},
     "output_type": "execute_result"
    },
    {
     "data": {
      "image/png": "[encoded data removed]",
      "text/plain": [
       "<Figure size 720x360 with 1 Axes>"
      ]
     },
     "metadata": {},
     "output_type": "display_data"
    }
   ],
   "source": [
    "#chart to show female winners age per year\n",
    "plt.figure(figsize=(10,5))\n",
    "sns.lineplot(x = fem.YEAR, y = fem.AGE)"
   ]
  },
  {
   "cell_type": "code",
   "execution_count": 182,
   "id": "e30f7a34",
   "metadata": {},
   "outputs": [
    {
     "data": {
      "text/plain": [
       "<AxesSubplot:xlabel='YEAR', ylabel='AGE'>"
      ]
     },
     "execution_count": 182,
     "metadata": {},
     "output_type": "execute_result"
    },
    {
     "data": {
      "image/png": "[encoded data removed]",
      "text/plain": [
       "<Figure size 720x360 with 1 Axes>"
      ]
     },
     "metadata": {},
     "output_type": "display_data"
    }
   ],
   "source": [
    "#chart to show winners age per year\n",
    "plt.figure(figsize=(10,5))\n",
    "\n",
    "sns.lineplot(x = winners.YEAR, y = winners.AGE)"
   ]
  },
  {
   "cell_type": "code",
   "execution_count": 51,
   "id": "a4ab9158",
   "metadata": {},
   "outputs": [
    {
     "data": {
      "text/plain": [
       "20    5\n",
       "30    4\n",
       "35    1\n",
       "Name: AGE, dtype: int64"
      ]
     },
     "execution_count": 51,
     "metadata": {},
     "output_type": "execute_result"
    }
   ],
   "source": [
    "#most occuring age among female winners\n",
    "fem.AGE.value_counts()"
   ]
  },
  {
   "cell_type": "code",
   "execution_count": 52,
   "id": "26fe2503",
   "metadata": {},
   "outputs": [
    {
     "data": {
      "text/plain": [
       "30    7\n",
       "35    2\n",
       "20    2\n",
       "Name: AGE, dtype: int64"
      ]
     },
     "execution_count": 52,
     "metadata": {},
     "output_type": "execute_result"
    }
   ],
   "source": [
    "#most occuring age among the male winners\n",
    "winners.AGE.value_counts()"
   ]
  },
  {
   "cell_type": "code",
   "execution_count": 85,
   "id": "ab5d0377",
   "metadata": {
    "scrolled": true
   },
   "outputs": [
    {
     "data": {
      "text/html": [
       "<div>\n",
       "<style scoped>\n",
       "    .dataframe tbody tr th:only-of-type {\n",
       "        vertical-align: middle;\n",
       "    }\n",
       "\n",
       "    .dataframe tbody tr th {\n",
       "        vertical-align: top;\n",
       "    }\n",
       "\n",
       "    .dataframe thead th {\n",
       "        text-align: right;\n",
       "    }\n",
       "</style>\n",
       "<table border=\"1\" class=\"dataframe\">\n",
       "  <thead>\n",
       "    <tr style=\"text-align: right;\">\n",
       "      <th></th>\n",
       "      <th>COUNTRY</th>\n",
       "      <th>YEAR</th>\n",
       "      <th>TIME</th>\n",
       "    </tr>\n",
       "  </thead>\n",
       "  <tbody>\n",
       "    <tr>\n",
       "      <th>295182</th>\n",
       "      <td>ETH</td>\n",
       "      <td>2019</td>\n",
       "      <td>2:01:41</td>\n",
       "    </tr>\n",
       "  </tbody>\n",
       "</table>\n",
       "</div>"
      ],
      "text/plain": [
       "       COUNTRY  YEAR     TIME\n",
       "295182     ETH  2019  2:01:41"
      ]
     },
     "execution_count": 85,
     "metadata": {},
     "output_type": "execute_result"
    }
   ],
   "source": [
    "#2019 Winner details\n",
    "winners[['COUNTRY', 'YEAR', 'TIME']].sort_values('YEAR').tail(1)"
   ]
  },
  {
   "cell_type": "code",
   "execution_count": null,
   "id": "31bbdfc7",
   "metadata": {},
   "outputs": [],
   "source": []
  },
  {
   "cell_type": "code",
   "execution_count": null,
   "id": "e87fb682",
   "metadata": {},
   "outputs": [],
   "source": []
  }
 ],
 "metadata": {
  "kernelspec": {
   "display_name": "Python 3 (ipykernel)",
   "language": "python",
   "name": "python3"
  },
  "language_info": {
   "codemirror_mode": {
    "name": "ipython",
    "version": 3
   },
   "file_extension": ".py",
   "mimetype": "text/x-python",
   "name": "python",
   "nbconvert_exporter": "python",
   "pygments_lexer": "ipython3",
   "version": "3.9.6"
  }
 },
 "nbformat": 4,
 "nbformat_minor": 5
}
